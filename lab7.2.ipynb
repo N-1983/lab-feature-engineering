{
 "cells": [
  {
   "cell_type": "markdown",
   "metadata": {},
   "source": [
    "# A Fund Raising Net Return Prediction Model"
   ]
  },
  {
   "cell_type": "code",
   "execution_count": 1,
   "metadata": {},
   "outputs": [],
   "source": [
    "import pandas as pd\n",
    "import numpy as np\n",
    "import matplotlib.pyplot as plt\n",
    "import seaborn as sns"
   ]
  },
  {
   "cell_type": "code",
   "execution_count": 2,
   "metadata": {},
   "outputs": [
    {
     "name": "stderr",
     "output_type": "stream",
     "text": [
      "/Users/neemahelan/opt/anaconda3/lib/python3.8/site-packages/IPython/core/interactiveshell.py:3146: DtypeWarning: Columns (8) have mixed types.Specify dtype option on import or set low_memory=False.\n",
      "  has_raised = await self.run_ast_nodes(code_ast.body, cell_name,\n"
     ]
    },
    {
     "name": "stdout",
     "output_type": "stream",
     "text": [
      "(95412, 481)\n"
     ]
    },
    {
     "data": {
      "text/html": [
       "<div>\n",
       "<style scoped>\n",
       "    .dataframe tbody tr th:only-of-type {\n",
       "        vertical-align: middle;\n",
       "    }\n",
       "\n",
       "    .dataframe tbody tr th {\n",
       "        vertical-align: top;\n",
       "    }\n",
       "\n",
       "    .dataframe thead th {\n",
       "        text-align: right;\n",
       "    }\n",
       "</style>\n",
       "<table border=\"1\" class=\"dataframe\">\n",
       "  <thead>\n",
       "    <tr style=\"text-align: right;\">\n",
       "      <th></th>\n",
       "      <th>ODATEDW</th>\n",
       "      <th>OSOURCE</th>\n",
       "      <th>TCODE</th>\n",
       "      <th>STATE</th>\n",
       "      <th>ZIP</th>\n",
       "      <th>MAILCODE</th>\n",
       "      <th>PVASTATE</th>\n",
       "      <th>DOB</th>\n",
       "      <th>NOEXCH</th>\n",
       "      <th>RECINHSE</th>\n",
       "      <th>...</th>\n",
       "      <th>TARGET_D</th>\n",
       "      <th>HPHONE_D</th>\n",
       "      <th>RFA_2R</th>\n",
       "      <th>RFA_2F</th>\n",
       "      <th>RFA_2A</th>\n",
       "      <th>MDMAUD_R</th>\n",
       "      <th>MDMAUD_F</th>\n",
       "      <th>MDMAUD_A</th>\n",
       "      <th>CLUSTER2</th>\n",
       "      <th>GEOCODE2</th>\n",
       "    </tr>\n",
       "  </thead>\n",
       "  <tbody>\n",
       "    <tr>\n",
       "      <th>0</th>\n",
       "      <td>8901</td>\n",
       "      <td>GRI</td>\n",
       "      <td>0</td>\n",
       "      <td>IL</td>\n",
       "      <td>61081</td>\n",
       "      <td></td>\n",
       "      <td></td>\n",
       "      <td>3712</td>\n",
       "      <td>0</td>\n",
       "      <td></td>\n",
       "      <td>...</td>\n",
       "      <td>0.0</td>\n",
       "      <td>0</td>\n",
       "      <td>L</td>\n",
       "      <td>4</td>\n",
       "      <td>E</td>\n",
       "      <td>X</td>\n",
       "      <td>X</td>\n",
       "      <td>X</td>\n",
       "      <td>39.0</td>\n",
       "      <td>C</td>\n",
       "    </tr>\n",
       "    <tr>\n",
       "      <th>1</th>\n",
       "      <td>9401</td>\n",
       "      <td>BOA</td>\n",
       "      <td>1</td>\n",
       "      <td>CA</td>\n",
       "      <td>91326</td>\n",
       "      <td></td>\n",
       "      <td></td>\n",
       "      <td>5202</td>\n",
       "      <td>0</td>\n",
       "      <td></td>\n",
       "      <td>...</td>\n",
       "      <td>0.0</td>\n",
       "      <td>0</td>\n",
       "      <td>L</td>\n",
       "      <td>2</td>\n",
       "      <td>G</td>\n",
       "      <td>X</td>\n",
       "      <td>X</td>\n",
       "      <td>X</td>\n",
       "      <td>1.0</td>\n",
       "      <td>A</td>\n",
       "    </tr>\n",
       "    <tr>\n",
       "      <th>2</th>\n",
       "      <td>9001</td>\n",
       "      <td>AMH</td>\n",
       "      <td>1</td>\n",
       "      <td>NC</td>\n",
       "      <td>27017</td>\n",
       "      <td></td>\n",
       "      <td></td>\n",
       "      <td>0</td>\n",
       "      <td>0</td>\n",
       "      <td></td>\n",
       "      <td>...</td>\n",
       "      <td>0.0</td>\n",
       "      <td>1</td>\n",
       "      <td>L</td>\n",
       "      <td>4</td>\n",
       "      <td>E</td>\n",
       "      <td>X</td>\n",
       "      <td>X</td>\n",
       "      <td>X</td>\n",
       "      <td>60.0</td>\n",
       "      <td>C</td>\n",
       "    </tr>\n",
       "    <tr>\n",
       "      <th>3</th>\n",
       "      <td>8701</td>\n",
       "      <td>BRY</td>\n",
       "      <td>0</td>\n",
       "      <td>CA</td>\n",
       "      <td>95953</td>\n",
       "      <td></td>\n",
       "      <td></td>\n",
       "      <td>2801</td>\n",
       "      <td>0</td>\n",
       "      <td></td>\n",
       "      <td>...</td>\n",
       "      <td>0.0</td>\n",
       "      <td>1</td>\n",
       "      <td>L</td>\n",
       "      <td>4</td>\n",
       "      <td>E</td>\n",
       "      <td>X</td>\n",
       "      <td>X</td>\n",
       "      <td>X</td>\n",
       "      <td>41.0</td>\n",
       "      <td>C</td>\n",
       "    </tr>\n",
       "    <tr>\n",
       "      <th>4</th>\n",
       "      <td>8601</td>\n",
       "      <td></td>\n",
       "      <td>0</td>\n",
       "      <td>FL</td>\n",
       "      <td>33176</td>\n",
       "      <td></td>\n",
       "      <td></td>\n",
       "      <td>2001</td>\n",
       "      <td>0</td>\n",
       "      <td>X</td>\n",
       "      <td>...</td>\n",
       "      <td>0.0</td>\n",
       "      <td>1</td>\n",
       "      <td>L</td>\n",
       "      <td>2</td>\n",
       "      <td>F</td>\n",
       "      <td>X</td>\n",
       "      <td>X</td>\n",
       "      <td>X</td>\n",
       "      <td>26.0</td>\n",
       "      <td>A</td>\n",
       "    </tr>\n",
       "  </tbody>\n",
       "</table>\n",
       "<p>5 rows × 481 columns</p>\n",
       "</div>"
      ],
      "text/plain": [
       "   ODATEDW OSOURCE  TCODE STATE    ZIP MAILCODE PVASTATE   DOB NOEXCH  \\\n",
       "0     8901     GRI      0    IL  61081                    3712      0   \n",
       "1     9401     BOA      1    CA  91326                    5202      0   \n",
       "2     9001     AMH      1    NC  27017                       0      0   \n",
       "3     8701     BRY      0    CA  95953                    2801      0   \n",
       "4     8601              0    FL  33176                    2001      0   \n",
       "\n",
       "  RECINHSE  ... TARGET_D HPHONE_D RFA_2R RFA_2F RFA_2A MDMAUD_R  MDMAUD_F  \\\n",
       "0           ...      0.0        0      L      4      E        X         X   \n",
       "1           ...      0.0        0      L      2      G        X         X   \n",
       "2           ...      0.0        1      L      4      E        X         X   \n",
       "3           ...      0.0        1      L      4      E        X         X   \n",
       "4        X  ...      0.0        1      L      2      F        X         X   \n",
       "\n",
       "  MDMAUD_A CLUSTER2 GEOCODE2  \n",
       "0        X     39.0        C  \n",
       "1        X      1.0        A  \n",
       "2        X     60.0        C  \n",
       "3        X     41.0        C  \n",
       "4        X     26.0        A  \n",
       "\n",
       "[5 rows x 481 columns]"
      ]
     },
     "execution_count": 2,
     "metadata": {},
     "output_type": "execute_result"
    }
   ],
   "source": [
    "data = pd.read_csv('learningSet.csv')\n",
    "print(data.shape)\n",
    "data.head()"
   ]
  },
  {
   "cell_type": "markdown",
   "metadata": {},
   "source": [
    "# Data cleaning"
   ]
  },
  {
   "cell_type": "markdown",
   "metadata": {},
   "source": [
    "There are a lot of columns that have a very high percentage of null values. It is a highly sparse dataset. We can decide on a threshold and then remove those variables. There is no rule of thumb to decide on this threshold value. Sometimes it can as low as 25%-30%. And sometimes in some data sets you might find that even though there are more than 50% missing values in a column, you might have to include that variable in your analysis. A lot of it depends on the business context as well. In this case we will take this threshold to be 25% and then check the definitions of the columns filtered, to see if there is any column that we might want to keep."
   ]
  },
  {
   "cell_type": "code",
   "execution_count": 3,
   "metadata": {},
   "outputs": [
    {
     "data": {
      "text/html": [
       "<div>\n",
       "<style scoped>\n",
       "    .dataframe tbody tr th:only-of-type {\n",
       "        vertical-align: middle;\n",
       "    }\n",
       "\n",
       "    .dataframe tbody tr th {\n",
       "        vertical-align: top;\n",
       "    }\n",
       "\n",
       "    .dataframe thead th {\n",
       "        text-align: right;\n",
       "    }\n",
       "</style>\n",
       "<table border=\"1\" class=\"dataframe\">\n",
       "  <thead>\n",
       "    <tr style=\"text-align: right;\">\n",
       "      <th></th>\n",
       "      <th>column_name</th>\n",
       "      <th>nulls_percentage</th>\n",
       "    </tr>\n",
       "  </thead>\n",
       "  <tbody>\n",
       "    <tr>\n",
       "      <th>0</th>\n",
       "      <td>ODATEDW</td>\n",
       "      <td>0.000000</td>\n",
       "    </tr>\n",
       "    <tr>\n",
       "      <th>1</th>\n",
       "      <td>OSOURCE</td>\n",
       "      <td>0.000000</td>\n",
       "    </tr>\n",
       "    <tr>\n",
       "      <th>2</th>\n",
       "      <td>TCODE</td>\n",
       "      <td>0.000000</td>\n",
       "    </tr>\n",
       "    <tr>\n",
       "      <th>3</th>\n",
       "      <td>STATE</td>\n",
       "      <td>0.000000</td>\n",
       "    </tr>\n",
       "    <tr>\n",
       "      <th>4</th>\n",
       "      <td>ZIP</td>\n",
       "      <td>0.000000</td>\n",
       "    </tr>\n",
       "    <tr>\n",
       "      <th>...</th>\n",
       "      <td>...</td>\n",
       "      <td>...</td>\n",
       "    </tr>\n",
       "    <tr>\n",
       "      <th>476</th>\n",
       "      <td>MDMAUD_R</td>\n",
       "      <td>0.000000</td>\n",
       "    </tr>\n",
       "    <tr>\n",
       "      <th>477</th>\n",
       "      <td>MDMAUD_F</td>\n",
       "      <td>0.000000</td>\n",
       "    </tr>\n",
       "    <tr>\n",
       "      <th>478</th>\n",
       "      <td>MDMAUD_A</td>\n",
       "      <td>0.000000</td>\n",
       "    </tr>\n",
       "    <tr>\n",
       "      <th>479</th>\n",
       "      <td>CLUSTER2</td>\n",
       "      <td>0.001383</td>\n",
       "    </tr>\n",
       "    <tr>\n",
       "      <th>480</th>\n",
       "      <td>GEOCODE2</td>\n",
       "      <td>0.001383</td>\n",
       "    </tr>\n",
       "  </tbody>\n",
       "</table>\n",
       "<p>481 rows × 2 columns</p>\n",
       "</div>"
      ],
      "text/plain": [
       "    column_name  nulls_percentage\n",
       "0       ODATEDW          0.000000\n",
       "1       OSOURCE          0.000000\n",
       "2         TCODE          0.000000\n",
       "3         STATE          0.000000\n",
       "4           ZIP          0.000000\n",
       "..          ...               ...\n",
       "476    MDMAUD_R          0.000000\n",
       "477    MDMAUD_F          0.000000\n",
       "478    MDMAUD_A          0.000000\n",
       "479    CLUSTER2          0.001383\n",
       "480    GEOCODE2          0.001383\n",
       "\n",
       "[481 rows x 2 columns]"
      ]
     },
     "execution_count": 3,
     "metadata": {},
     "output_type": "execute_result"
    }
   ],
   "source": [
    "nulls_percent_df = pd.DataFrame(data.isna().sum()/len(data)).reset_index()\n",
    "nulls_percent_df.columns = ['column_name', 'nulls_percentage']\n",
    "nulls_percent_df"
   ]
  },
  {
   "cell_type": "code",
   "execution_count": 4,
   "metadata": {},
   "outputs": [
    {
     "data": {
      "text/plain": [
       "23      NUMCHLD\n",
       "26      WEALTH1\n",
       "28      MBCRAFT\n",
       "29     MBGARDEN\n",
       "30      MBBOOKS\n",
       "         ...   \n",
       "451    RAMNT_20\n",
       "452    RAMNT_21\n",
       "453    RAMNT_22\n",
       "454    RAMNT_23\n",
       "455    RAMNT_24\n",
       "Name: column_name, Length: 72, dtype: object"
      ]
     },
     "execution_count": 4,
     "metadata": {},
     "output_type": "execute_result"
    }
   ],
   "source": [
    "columns_above_threshold = nulls_percent_df[nulls_percent_df['nulls_percentage']>0.25]\n",
    "columns_above_threshold['column_name']"
   ]
  },
  {
   "cell_type": "code",
   "execution_count": 5,
   "metadata": {},
   "outputs": [
    {
     "name": "stdout",
     "output_type": "stream",
     "text": [
      "['NUMCHLD', 'WEALTH1', 'MBCRAFT', 'MBGARDEN', 'MBBOOKS', 'MBCOLECT', 'MAGFAML', 'MAGFEM', 'MAGMALE', 'PUBGARDN', 'PUBCULIN', 'PUBHLTH', 'PUBDOITY', 'PUBNEWFN', 'PUBPHOTO', 'PUBOPP', 'WEALTH2', 'ADATE_5', 'ADATE_10', 'ADATE_13', 'ADATE_15', 'ADATE_17', 'ADATE_19', 'ADATE_20', 'ADATE_21', 'ADATE_22', 'ADATE_23', 'ADATE_24', 'RDATE_3', 'RDATE_4', 'RDATE_5', 'RDATE_6', 'RDATE_7', 'RDATE_8', 'RDATE_9', 'RDATE_10', 'RDATE_11', 'RDATE_12', 'RDATE_13', 'RDATE_14', 'RDATE_15', 'RDATE_16', 'RDATE_17', 'RDATE_18', 'RDATE_19', 'RDATE_20', 'RDATE_21', 'RDATE_22', 'RDATE_23', 'RDATE_24', 'RAMNT_3', 'RAMNT_4', 'RAMNT_5', 'RAMNT_6', 'RAMNT_7', 'RAMNT_8', 'RAMNT_9', 'RAMNT_10', 'RAMNT_11', 'RAMNT_12', 'RAMNT_13', 'RAMNT_14', 'RAMNT_15', 'RAMNT_16', 'RAMNT_17', 'RAMNT_18', 'RAMNT_19', 'RAMNT_20', 'RAMNT_21', 'RAMNT_22', 'RAMNT_23', 'RAMNT_24']\n"
     ]
    }
   ],
   "source": [
    "drop_columns_list = list(columns_above_threshold['column_name'])\n",
    "print(drop_columns_list)"
   ]
  },
  {
   "cell_type": "code",
   "execution_count": 6,
   "metadata": {},
   "outputs": [
    {
     "name": "stdout",
     "output_type": "stream",
     "text": [
      "['NUMCHLD', 'MBCRAFT', 'MBGARDEN', 'MBBOOKS', 'MBCOLECT', 'MAGFAML', 'MAGFEM', 'MAGMALE', 'PUBGARDN', 'PUBCULIN', 'PUBHLTH', 'PUBDOITY', 'PUBNEWFN', 'PUBPHOTO', 'PUBOPP', 'ADATE_5', 'ADATE_10', 'ADATE_13', 'ADATE_15', 'ADATE_17', 'ADATE_19', 'ADATE_20', 'ADATE_21', 'ADATE_22', 'ADATE_23', 'ADATE_24', 'RDATE_3', 'RDATE_4', 'RDATE_5', 'RDATE_6', 'RDATE_7', 'RDATE_8', 'RDATE_9', 'RDATE_10', 'RDATE_11', 'RDATE_12', 'RDATE_13', 'RDATE_14', 'RDATE_15', 'RDATE_16', 'RDATE_17', 'RDATE_18', 'RDATE_19', 'RDATE_20', 'RDATE_21', 'RDATE_22', 'RDATE_23', 'RDATE_24', 'RAMNT_3', 'RAMNT_4', 'RAMNT_5', 'RAMNT_6', 'RAMNT_7', 'RAMNT_8', 'RAMNT_9', 'RAMNT_10', 'RAMNT_11', 'RAMNT_12', 'RAMNT_13', 'RAMNT_14', 'RAMNT_15', 'RAMNT_16', 'RAMNT_17', 'RAMNT_18', 'RAMNT_19', 'RAMNT_20', 'RAMNT_21', 'RAMNT_22', 'RAMNT_23', 'RAMNT_24']\n"
     ]
    }
   ],
   "source": [
    "cols = ['WEALTH1', 'WEALTH2']\n",
    "for item in cols:\n",
    "  drop_columns_list.remove(item)  \n",
    "print(drop_columns_list)"
   ]
  },
  {
   "cell_type": "code",
   "execution_count": 7,
   "metadata": {},
   "outputs": [
    {
     "data": {
      "text/plain": [
       "(95412, 411)"
      ]
     },
     "execution_count": 7,
     "metadata": {},
     "output_type": "execute_result"
    }
   ],
   "source": [
    "data = data.drop(columns=drop_columns_list)\n",
    "data.shape"
   ]
  },
  {
   "cell_type": "code",
   "execution_count": 8,
   "metadata": {},
   "outputs": [],
   "source": [
    "data['MAILCODE'] = data['MAILCODE'].apply(lambda x: x.replace(\" \", \"A\"))"
   ]
  },
  {
   "cell_type": "code",
   "execution_count": 9,
   "metadata": {},
   "outputs": [],
   "source": [
    "data = data.apply(lambda x: x.replace(\" \", np.NaN))"
   ]
  },
  {
   "cell_type": "code",
   "execution_count": 10,
   "metadata": {},
   "outputs": [
    {
     "data": {
      "text/html": [
       "<div>\n",
       "<style scoped>\n",
       "    .dataframe tbody tr th:only-of-type {\n",
       "        vertical-align: middle;\n",
       "    }\n",
       "\n",
       "    .dataframe tbody tr th {\n",
       "        vertical-align: top;\n",
       "    }\n",
       "\n",
       "    .dataframe thead th {\n",
       "        text-align: right;\n",
       "    }\n",
       "</style>\n",
       "<table border=\"1\" class=\"dataframe\">\n",
       "  <thead>\n",
       "    <tr style=\"text-align: right;\">\n",
       "      <th></th>\n",
       "      <th>column_name</th>\n",
       "      <th>nulls_percentage</th>\n",
       "    </tr>\n",
       "  </thead>\n",
       "  <tbody>\n",
       "    <tr>\n",
       "      <th>0</th>\n",
       "      <td>ODATEDW</td>\n",
       "      <td>0.000000</td>\n",
       "    </tr>\n",
       "    <tr>\n",
       "      <th>1</th>\n",
       "      <td>OSOURCE</td>\n",
       "      <td>0.009726</td>\n",
       "    </tr>\n",
       "    <tr>\n",
       "      <th>2</th>\n",
       "      <td>TCODE</td>\n",
       "      <td>0.000000</td>\n",
       "    </tr>\n",
       "    <tr>\n",
       "      <th>3</th>\n",
       "      <td>STATE</td>\n",
       "      <td>0.000000</td>\n",
       "    </tr>\n",
       "    <tr>\n",
       "      <th>4</th>\n",
       "      <td>ZIP</td>\n",
       "      <td>0.000000</td>\n",
       "    </tr>\n",
       "  </tbody>\n",
       "</table>\n",
       "</div>"
      ],
      "text/plain": [
       "  column_name  nulls_percentage\n",
       "0     ODATEDW          0.000000\n",
       "1     OSOURCE          0.009726\n",
       "2       TCODE          0.000000\n",
       "3       STATE          0.000000\n",
       "4         ZIP          0.000000"
      ]
     },
     "execution_count": 10,
     "metadata": {},
     "output_type": "execute_result"
    }
   ],
   "source": [
    "nulls_percent_df_2 = pd.DataFrame(data.isna().sum()/len(data)).reset_index()\n",
    "nulls_percent_df_2.columns = ['column_name', 'nulls_percentage']\n",
    "nulls_percent_df_2.head()"
   ]
  },
  {
   "cell_type": "code",
   "execution_count": 11,
   "metadata": {},
   "outputs": [
    {
     "name": "stdout",
     "output_type": "stream",
     "text": [
      "47\n"
     ]
    }
   ],
   "source": [
    "columns_above_threshold_2 = nulls_percent_df_2[nulls_percent_df_2['nulls_percentage']>0.25]\n",
    "print(len(columns_above_threshold_2['column_name']))"
   ]
  },
  {
   "cell_type": "code",
   "execution_count": 12,
   "metadata": {},
   "outputs": [
    {
     "name": "stdout",
     "output_type": "stream",
     "text": [
      "['PVASTATE', 'RECINHSE', 'RECP3', 'RECPGVG', 'RECSWEEP', 'AGEFLAG', 'CHILD03', 'CHILD07', 'CHILD12', 'CHILD18', 'WEALTH1', 'SOLP3', 'SOLIH', 'MAJOR', 'WEALTH2', 'GEOCODE', 'COLLECT1', 'VETERANS', 'BIBLE', 'CATLG', 'HOMEE', 'PETS', 'CDPLAY', 'STEREO', 'PCOWNERS', 'PHOTO', 'CRAFTS', 'FISHER', 'GARDENIN', 'BOATS', 'WALKER', 'KIDSTUFF', 'CARDS', 'PLATES', 'LIFESRC', 'PEPSTRFL', 'RFA_5', 'RFA_10', 'RFA_13', 'RFA_15', 'RFA_17', 'RFA_19', 'RFA_20', 'RFA_21', 'RFA_22', 'RFA_23', 'RFA_24']\n"
     ]
    }
   ],
   "source": [
    "drop_columns_list_2 = list(columns_above_threshold_2['column_name'])\n",
    "print(drop_columns_list_2)"
   ]
  },
  {
   "cell_type": "code",
   "execution_count": 13,
   "metadata": {},
   "outputs": [],
   "source": [
    "cols_2 = ['WEALTH1', 'WEALTH2', 'VETERANS', 'SOLIH']\n",
    "for item in cols_2:\n",
    "    drop_columns_list_2.remove(item) "
   ]
  },
  {
   "cell_type": "code",
   "execution_count": 14,
   "metadata": {},
   "outputs": [
    {
     "data": {
      "text/plain": [
       "(95412, 368)"
      ]
     },
     "execution_count": 14,
     "metadata": {},
     "output_type": "execute_result"
    }
   ],
   "source": [
    "data = data.drop(columns=drop_columns_list_2)\n",
    "data.shape"
   ]
  },
  {
   "cell_type": "code",
   "execution_count": 15,
   "metadata": {},
   "outputs": [
    {
     "data": {
      "text/html": [
       "<div>\n",
       "<style scoped>\n",
       "    .dataframe tbody tr th:only-of-type {\n",
       "        vertical-align: middle;\n",
       "    }\n",
       "\n",
       "    .dataframe tbody tr th {\n",
       "        vertical-align: top;\n",
       "    }\n",
       "\n",
       "    .dataframe thead th {\n",
       "        text-align: right;\n",
       "    }\n",
       "</style>\n",
       "<table border=\"1\" class=\"dataframe\">\n",
       "  <thead>\n",
       "    <tr style=\"text-align: right;\">\n",
       "      <th></th>\n",
       "      <th>TARGET_B</th>\n",
       "      <th>TARGET_D</th>\n",
       "    </tr>\n",
       "  </thead>\n",
       "  <tbody>\n",
       "    <tr>\n",
       "      <th>0</th>\n",
       "      <td>0</td>\n",
       "      <td>0.0</td>\n",
       "    </tr>\n",
       "    <tr>\n",
       "      <th>1</th>\n",
       "      <td>0</td>\n",
       "      <td>0.0</td>\n",
       "    </tr>\n",
       "    <tr>\n",
       "      <th>2</th>\n",
       "      <td>0</td>\n",
       "      <td>0.0</td>\n",
       "    </tr>\n",
       "    <tr>\n",
       "      <th>3</th>\n",
       "      <td>0</td>\n",
       "      <td>0.0</td>\n",
       "    </tr>\n",
       "    <tr>\n",
       "      <th>4</th>\n",
       "      <td>0</td>\n",
       "      <td>0.0</td>\n",
       "    </tr>\n",
       "  </tbody>\n",
       "</table>\n",
       "</div>"
      ],
      "text/plain": [
       "   TARGET_B  TARGET_D\n",
       "0         0       0.0\n",
       "1         0       0.0\n",
       "2         0       0.0\n",
       "3         0       0.0\n",
       "4         0       0.0"
      ]
     },
     "execution_count": 15,
     "metadata": {},
     "output_type": "execute_result"
    }
   ],
   "source": [
    "Y = data[['TARGET_B', 'TARGET_D']]\n",
    "Y.head()"
   ]
  },
  {
   "cell_type": "code",
   "execution_count": 16,
   "metadata": {},
   "outputs": [
    {
     "data": {
      "text/html": [
       "<div>\n",
       "<style scoped>\n",
       "    .dataframe tbody tr th:only-of-type {\n",
       "        vertical-align: middle;\n",
       "    }\n",
       "\n",
       "    .dataframe tbody tr th {\n",
       "        vertical-align: top;\n",
       "    }\n",
       "\n",
       "    .dataframe thead th {\n",
       "        text-align: right;\n",
       "    }\n",
       "</style>\n",
       "<table border=\"1\" class=\"dataframe\">\n",
       "  <thead>\n",
       "    <tr style=\"text-align: right;\">\n",
       "      <th></th>\n",
       "      <th>ODATEDW</th>\n",
       "      <th>TCODE</th>\n",
       "      <th>DOB</th>\n",
       "      <th>AGE</th>\n",
       "      <th>INCOME</th>\n",
       "      <th>WEALTH1</th>\n",
       "      <th>HIT</th>\n",
       "      <th>MALEMILI</th>\n",
       "      <th>MALEVET</th>\n",
       "      <th>VIETVETS</th>\n",
       "      <th>...</th>\n",
       "      <th>LASTGIFT</th>\n",
       "      <th>LASTDATE</th>\n",
       "      <th>FISTDATE</th>\n",
       "      <th>NEXTDATE</th>\n",
       "      <th>TIMELAG</th>\n",
       "      <th>AVGGIFT</th>\n",
       "      <th>CONTROLN</th>\n",
       "      <th>HPHONE_D</th>\n",
       "      <th>RFA_2F</th>\n",
       "      <th>CLUSTER2</th>\n",
       "    </tr>\n",
       "  </thead>\n",
       "  <tbody>\n",
       "    <tr>\n",
       "      <th>0</th>\n",
       "      <td>8901</td>\n",
       "      <td>0</td>\n",
       "      <td>3712</td>\n",
       "      <td>60.0</td>\n",
       "      <td>NaN</td>\n",
       "      <td>NaN</td>\n",
       "      <td>0</td>\n",
       "      <td>0</td>\n",
       "      <td>39</td>\n",
       "      <td>34</td>\n",
       "      <td>...</td>\n",
       "      <td>10.0</td>\n",
       "      <td>9512</td>\n",
       "      <td>8911</td>\n",
       "      <td>9003.0</td>\n",
       "      <td>4.0</td>\n",
       "      <td>7.741935</td>\n",
       "      <td>95515</td>\n",
       "      <td>0</td>\n",
       "      <td>4</td>\n",
       "      <td>39.0</td>\n",
       "    </tr>\n",
       "    <tr>\n",
       "      <th>1</th>\n",
       "      <td>9401</td>\n",
       "      <td>1</td>\n",
       "      <td>5202</td>\n",
       "      <td>46.0</td>\n",
       "      <td>6.0</td>\n",
       "      <td>9.0</td>\n",
       "      <td>16</td>\n",
       "      <td>0</td>\n",
       "      <td>15</td>\n",
       "      <td>55</td>\n",
       "      <td>...</td>\n",
       "      <td>25.0</td>\n",
       "      <td>9512</td>\n",
       "      <td>9310</td>\n",
       "      <td>9504.0</td>\n",
       "      <td>18.0</td>\n",
       "      <td>15.666667</td>\n",
       "      <td>148535</td>\n",
       "      <td>0</td>\n",
       "      <td>2</td>\n",
       "      <td>1.0</td>\n",
       "    </tr>\n",
       "    <tr>\n",
       "      <th>2</th>\n",
       "      <td>9001</td>\n",
       "      <td>1</td>\n",
       "      <td>0</td>\n",
       "      <td>NaN</td>\n",
       "      <td>3.0</td>\n",
       "      <td>1.0</td>\n",
       "      <td>2</td>\n",
       "      <td>0</td>\n",
       "      <td>20</td>\n",
       "      <td>29</td>\n",
       "      <td>...</td>\n",
       "      <td>5.0</td>\n",
       "      <td>9512</td>\n",
       "      <td>9001</td>\n",
       "      <td>9101.0</td>\n",
       "      <td>12.0</td>\n",
       "      <td>7.481481</td>\n",
       "      <td>15078</td>\n",
       "      <td>1</td>\n",
       "      <td>4</td>\n",
       "      <td>60.0</td>\n",
       "    </tr>\n",
       "    <tr>\n",
       "      <th>3</th>\n",
       "      <td>8701</td>\n",
       "      <td>0</td>\n",
       "      <td>2801</td>\n",
       "      <td>70.0</td>\n",
       "      <td>1.0</td>\n",
       "      <td>4.0</td>\n",
       "      <td>2</td>\n",
       "      <td>0</td>\n",
       "      <td>23</td>\n",
       "      <td>14</td>\n",
       "      <td>...</td>\n",
       "      <td>10.0</td>\n",
       "      <td>9512</td>\n",
       "      <td>8702</td>\n",
       "      <td>8711.0</td>\n",
       "      <td>9.0</td>\n",
       "      <td>6.812500</td>\n",
       "      <td>172556</td>\n",
       "      <td>1</td>\n",
       "      <td>4</td>\n",
       "      <td>41.0</td>\n",
       "    </tr>\n",
       "    <tr>\n",
       "      <th>4</th>\n",
       "      <td>8601</td>\n",
       "      <td>0</td>\n",
       "      <td>2001</td>\n",
       "      <td>78.0</td>\n",
       "      <td>3.0</td>\n",
       "      <td>2.0</td>\n",
       "      <td>60</td>\n",
       "      <td>1</td>\n",
       "      <td>28</td>\n",
       "      <td>9</td>\n",
       "      <td>...</td>\n",
       "      <td>15.0</td>\n",
       "      <td>9601</td>\n",
       "      <td>7903</td>\n",
       "      <td>8005.0</td>\n",
       "      <td>14.0</td>\n",
       "      <td>6.864865</td>\n",
       "      <td>7112</td>\n",
       "      <td>1</td>\n",
       "      <td>2</td>\n",
       "      <td>26.0</td>\n",
       "    </tr>\n",
       "  </tbody>\n",
       "</table>\n",
       "<p>5 rows × 335 columns</p>\n",
       "</div>"
      ],
      "text/plain": [
       "   ODATEDW  TCODE   DOB   AGE  INCOME  WEALTH1  HIT  MALEMILI  MALEVET  \\\n",
       "0     8901      0  3712  60.0     NaN      NaN    0         0       39   \n",
       "1     9401      1  5202  46.0     6.0      9.0   16         0       15   \n",
       "2     9001      1     0   NaN     3.0      1.0    2         0       20   \n",
       "3     8701      0  2801  70.0     1.0      4.0    2         0       23   \n",
       "4     8601      0  2001  78.0     3.0      2.0   60         1       28   \n",
       "\n",
       "   VIETVETS  ...  LASTGIFT  LASTDATE  FISTDATE  NEXTDATE  TIMELAG    AVGGIFT  \\\n",
       "0        34  ...      10.0      9512      8911    9003.0      4.0   7.741935   \n",
       "1        55  ...      25.0      9512      9310    9504.0     18.0  15.666667   \n",
       "2        29  ...       5.0      9512      9001    9101.0     12.0   7.481481   \n",
       "3        14  ...      10.0      9512      8702    8711.0      9.0   6.812500   \n",
       "4         9  ...      15.0      9601      7903    8005.0     14.0   6.864865   \n",
       "\n",
       "   CONTROLN  HPHONE_D  RFA_2F  CLUSTER2  \n",
       "0     95515         0       4      39.0  \n",
       "1    148535         0       2       1.0  \n",
       "2     15078         1       4      60.0  \n",
       "3    172556         1       4      41.0  \n",
       "4      7112         1       2      26.0  \n",
       "\n",
       "[5 rows x 335 columns]"
      ]
     },
     "execution_count": 16,
     "metadata": {},
     "output_type": "execute_result"
    }
   ],
   "source": [
    "numerical = data.select_dtypes(np.number)\n",
    "numerical = numerical.drop(columns = ['TARGET_B', 'TARGET_D'])\n",
    "numerical.head()"
   ]
  },
  {
   "cell_type": "markdown",
   "metadata": {},
   "source": [
    "# working with catagorical"
   ]
  },
  {
   "cell_type": "code",
   "execution_count": 17,
   "metadata": {},
   "outputs": [
    {
     "data": {
      "text/html": [
       "<div>\n",
       "<style scoped>\n",
       "    .dataframe tbody tr th:only-of-type {\n",
       "        vertical-align: middle;\n",
       "    }\n",
       "\n",
       "    .dataframe tbody tr th {\n",
       "        vertical-align: top;\n",
       "    }\n",
       "\n",
       "    .dataframe thead th {\n",
       "        text-align: right;\n",
       "    }\n",
       "</style>\n",
       "<table border=\"1\" class=\"dataframe\">\n",
       "  <thead>\n",
       "    <tr style=\"text-align: right;\">\n",
       "      <th></th>\n",
       "      <th>OSOURCE</th>\n",
       "      <th>STATE</th>\n",
       "      <th>ZIP</th>\n",
       "      <th>MAILCODE</th>\n",
       "      <th>NOEXCH</th>\n",
       "      <th>MDMAUD</th>\n",
       "      <th>DOMAIN</th>\n",
       "      <th>CLUSTER</th>\n",
       "      <th>HOMEOWNR</th>\n",
       "      <th>GENDER</th>\n",
       "      <th>...</th>\n",
       "      <th>RFA_12</th>\n",
       "      <th>RFA_14</th>\n",
       "      <th>RFA_16</th>\n",
       "      <th>RFA_18</th>\n",
       "      <th>RFA_2R</th>\n",
       "      <th>RFA_2A</th>\n",
       "      <th>MDMAUD_R</th>\n",
       "      <th>MDMAUD_F</th>\n",
       "      <th>MDMAUD_A</th>\n",
       "      <th>GEOCODE2</th>\n",
       "    </tr>\n",
       "  </thead>\n",
       "  <tbody>\n",
       "    <tr>\n",
       "      <th>0</th>\n",
       "      <td>GRI</td>\n",
       "      <td>IL</td>\n",
       "      <td>61081</td>\n",
       "      <td>A</td>\n",
       "      <td>0</td>\n",
       "      <td>XXXX</td>\n",
       "      <td>T2</td>\n",
       "      <td>36</td>\n",
       "      <td>NaN</td>\n",
       "      <td>F</td>\n",
       "      <td>...</td>\n",
       "      <td>S4E</td>\n",
       "      <td>S4E</td>\n",
       "      <td>S4E</td>\n",
       "      <td>S4E</td>\n",
       "      <td>L</td>\n",
       "      <td>E</td>\n",
       "      <td>X</td>\n",
       "      <td>X</td>\n",
       "      <td>X</td>\n",
       "      <td>C</td>\n",
       "    </tr>\n",
       "    <tr>\n",
       "      <th>1</th>\n",
       "      <td>BOA</td>\n",
       "      <td>CA</td>\n",
       "      <td>91326</td>\n",
       "      <td>A</td>\n",
       "      <td>0</td>\n",
       "      <td>XXXX</td>\n",
       "      <td>S1</td>\n",
       "      <td>14</td>\n",
       "      <td>H</td>\n",
       "      <td>M</td>\n",
       "      <td>...</td>\n",
       "      <td>A1E</td>\n",
       "      <td>NaN</td>\n",
       "      <td>L1E</td>\n",
       "      <td>NaN</td>\n",
       "      <td>L</td>\n",
       "      <td>G</td>\n",
       "      <td>X</td>\n",
       "      <td>X</td>\n",
       "      <td>X</td>\n",
       "      <td>A</td>\n",
       "    </tr>\n",
       "    <tr>\n",
       "      <th>2</th>\n",
       "      <td>AMH</td>\n",
       "      <td>NC</td>\n",
       "      <td>27017</td>\n",
       "      <td>A</td>\n",
       "      <td>0</td>\n",
       "      <td>XXXX</td>\n",
       "      <td>R2</td>\n",
       "      <td>43</td>\n",
       "      <td>U</td>\n",
       "      <td>M</td>\n",
       "      <td>...</td>\n",
       "      <td>S4F</td>\n",
       "      <td>S4F</td>\n",
       "      <td>S4F</td>\n",
       "      <td>S4D</td>\n",
       "      <td>L</td>\n",
       "      <td>E</td>\n",
       "      <td>X</td>\n",
       "      <td>X</td>\n",
       "      <td>X</td>\n",
       "      <td>C</td>\n",
       "    </tr>\n",
       "    <tr>\n",
       "      <th>3</th>\n",
       "      <td>BRY</td>\n",
       "      <td>CA</td>\n",
       "      <td>95953</td>\n",
       "      <td>A</td>\n",
       "      <td>0</td>\n",
       "      <td>XXXX</td>\n",
       "      <td>R2</td>\n",
       "      <td>44</td>\n",
       "      <td>U</td>\n",
       "      <td>F</td>\n",
       "      <td>...</td>\n",
       "      <td>S4E</td>\n",
       "      <td>S4E</td>\n",
       "      <td>S4E</td>\n",
       "      <td>S2D</td>\n",
       "      <td>L</td>\n",
       "      <td>E</td>\n",
       "      <td>X</td>\n",
       "      <td>X</td>\n",
       "      <td>X</td>\n",
       "      <td>C</td>\n",
       "    </tr>\n",
       "    <tr>\n",
       "      <th>4</th>\n",
       "      <td>NaN</td>\n",
       "      <td>FL</td>\n",
       "      <td>33176</td>\n",
       "      <td>A</td>\n",
       "      <td>0</td>\n",
       "      <td>XXXX</td>\n",
       "      <td>S2</td>\n",
       "      <td>16</td>\n",
       "      <td>H</td>\n",
       "      <td>F</td>\n",
       "      <td>...</td>\n",
       "      <td>A1E</td>\n",
       "      <td>L3D</td>\n",
       "      <td>L3D</td>\n",
       "      <td>A2D</td>\n",
       "      <td>L</td>\n",
       "      <td>F</td>\n",
       "      <td>X</td>\n",
       "      <td>X</td>\n",
       "      <td>X</td>\n",
       "      <td>A</td>\n",
       "    </tr>\n",
       "  </tbody>\n",
       "</table>\n",
       "<p>5 rows × 31 columns</p>\n",
       "</div>"
      ],
      "text/plain": [
       "  OSOURCE STATE    ZIP MAILCODE NOEXCH MDMAUD DOMAIN CLUSTER HOMEOWNR GENDER  \\\n",
       "0     GRI    IL  61081        A      0   XXXX     T2      36      NaN      F   \n",
       "1     BOA    CA  91326        A      0   XXXX     S1      14        H      M   \n",
       "2     AMH    NC  27017        A      0   XXXX     R2      43        U      M   \n",
       "3     BRY    CA  95953        A      0   XXXX     R2      44        U      F   \n",
       "4     NaN    FL  33176        A      0   XXXX     S2      16        H      F   \n",
       "\n",
       "   ... RFA_12 RFA_14 RFA_16 RFA_18 RFA_2R RFA_2A MDMAUD_R MDMAUD_F MDMAUD_A  \\\n",
       "0  ...    S4E    S4E    S4E    S4E      L      E        X        X        X   \n",
       "1  ...    A1E    NaN    L1E    NaN      L      G        X        X        X   \n",
       "2  ...    S4F    S4F    S4F    S4D      L      E        X        X        X   \n",
       "3  ...    S4E    S4E    S4E    S2D      L      E        X        X        X   \n",
       "4  ...    A1E    L3D    L3D    A2D      L      F        X        X        X   \n",
       "\n",
       "  GEOCODE2  \n",
       "0        C  \n",
       "1        A  \n",
       "2        C  \n",
       "3        C  \n",
       "4        A  \n",
       "\n",
       "[5 rows x 31 columns]"
      ]
     },
     "execution_count": 17,
     "metadata": {},
     "output_type": "execute_result"
    }
   ],
   "source": [
    "categorical = data.select_dtypes(np.object)\n",
    "categorical.head()"
   ]
  },
  {
   "cell_type": "code",
   "execution_count": 18,
   "metadata": {},
   "outputs": [
    {
     "data": {
      "text/plain": [
       "OSOURCE       928\n",
       "STATE           0\n",
       "ZIP             0\n",
       "MAILCODE        0\n",
       "NOEXCH          7\n",
       "MDMAUD          0\n",
       "DOMAIN       2316\n",
       "CLUSTER      2316\n",
       "HOMEOWNR    22228\n",
       "GENDER       2957\n",
       "DATASRCE    21280\n",
       "SOLIH       89212\n",
       "VETERANS    84986\n",
       "RFA_2           0\n",
       "RFA_3        1950\n",
       "RFA_4        2312\n",
       "RFA_6        3557\n",
       "RFA_7        8874\n",
       "RFA_8        3511\n",
       "RFA_9       11245\n",
       "RFA_11      10422\n",
       "RFA_12       8923\n",
       "RFA_14      18867\n",
       "RFA_16      20417\n",
       "RFA_18      21263\n",
       "RFA_2R          0\n",
       "RFA_2A          0\n",
       "MDMAUD_R        0\n",
       "MDMAUD_F        0\n",
       "MDMAUD_A        0\n",
       "GEOCODE2      319\n",
       "dtype: int64"
      ]
     },
     "execution_count": 18,
     "metadata": {},
     "output_type": "execute_result"
    }
   ],
   "source": [
    "categorical.isna().sum()"
   ]
  },
  {
   "cell_type": "code",
   "execution_count": 19,
   "metadata": {},
   "outputs": [
    {
     "name": "stderr",
     "output_type": "stream",
     "text": [
      "<ipython-input-19-c50ceaf7ee2c>:10: SettingWithCopyWarning: \n",
      "A value is trying to be set on a copy of a slice from a DataFrame.\n",
      "Try using .loc[row_indexer,col_indexer] = value instead\n",
      "\n",
      "See the caveats in the documentation: https://pandas.pydata.org/pandas-docs/stable/user_guide/indexing.html#returning-a-view-versus-a-copy\n",
      "  categorical['STATE'] = list(map(clean_state, categorical['STATE']))\n"
     ]
    }
   ],
   "source": [
    "df = pd.DataFrame(categorical['STATE'].value_counts()).reset_index()\n",
    "df.columns = ['state', 'count']\n",
    "other_states = list(df[df['count']<2500]['state'])\n",
    "\n",
    "def clean_state(x):\n",
    "    if x in other_states:\n",
    "        return 'other'\n",
    "    else:\n",
    "        return x\n",
    "categorical['STATE'] = list(map(clean_state, categorical['STATE']))"
   ]
  },
  {
   "cell_type": "code",
   "execution_count": 20,
   "metadata": {},
   "outputs": [
    {
     "data": {
      "text/plain": [
       "other    30457\n",
       "CA       17343\n",
       "FL        8376\n",
       "TX        7535\n",
       "IL        6420\n",
       "MI        5654\n",
       "NC        4160\n",
       "WA        3577\n",
       "GA        3403\n",
       "IN        2980\n",
       "WI        2795\n",
       "MO        2712\n",
       "Name: STATE, dtype: int64"
      ]
     },
     "execution_count": 20,
     "metadata": {},
     "output_type": "execute_result"
    }
   ],
   "source": [
    "categorical['STATE'].value_counts()"
   ]
  },
  {
   "cell_type": "code",
   "execution_count": 21,
   "metadata": {},
   "outputs": [
    {
     "data": {
      "text/html": [
       "<div>\n",
       "<style scoped>\n",
       "    .dataframe tbody tr th:only-of-type {\n",
       "        vertical-align: middle;\n",
       "    }\n",
       "\n",
       "    .dataframe tbody tr th {\n",
       "        vertical-align: top;\n",
       "    }\n",
       "\n",
       "    .dataframe thead th {\n",
       "        text-align: right;\n",
       "    }\n",
       "</style>\n",
       "<table border=\"1\" class=\"dataframe\">\n",
       "  <thead>\n",
       "    <tr style=\"text-align: right;\">\n",
       "      <th></th>\n",
       "      <th>column_name</th>\n",
       "      <th>nulls_percentage</th>\n",
       "    </tr>\n",
       "  </thead>\n",
       "  <tbody>\n",
       "    <tr>\n",
       "      <th>0</th>\n",
       "      <td>OSOURCE</td>\n",
       "      <td>0.009726</td>\n",
       "    </tr>\n",
       "    <tr>\n",
       "      <th>1</th>\n",
       "      <td>STATE</td>\n",
       "      <td>0.000000</td>\n",
       "    </tr>\n",
       "    <tr>\n",
       "      <th>2</th>\n",
       "      <td>ZIP</td>\n",
       "      <td>0.000000</td>\n",
       "    </tr>\n",
       "    <tr>\n",
       "      <th>3</th>\n",
       "      <td>MAILCODE</td>\n",
       "      <td>0.000000</td>\n",
       "    </tr>\n",
       "    <tr>\n",
       "      <th>4</th>\n",
       "      <td>NOEXCH</td>\n",
       "      <td>0.000073</td>\n",
       "    </tr>\n",
       "    <tr>\n",
       "      <th>5</th>\n",
       "      <td>MDMAUD</td>\n",
       "      <td>0.000000</td>\n",
       "    </tr>\n",
       "    <tr>\n",
       "      <th>6</th>\n",
       "      <td>DOMAIN</td>\n",
       "      <td>0.024274</td>\n",
       "    </tr>\n",
       "    <tr>\n",
       "      <th>7</th>\n",
       "      <td>CLUSTER</td>\n",
       "      <td>0.024274</td>\n",
       "    </tr>\n",
       "    <tr>\n",
       "      <th>8</th>\n",
       "      <td>HOMEOWNR</td>\n",
       "      <td>0.232969</td>\n",
       "    </tr>\n",
       "    <tr>\n",
       "      <th>9</th>\n",
       "      <td>GENDER</td>\n",
       "      <td>0.030992</td>\n",
       "    </tr>\n",
       "    <tr>\n",
       "      <th>10</th>\n",
       "      <td>DATASRCE</td>\n",
       "      <td>0.223033</td>\n",
       "    </tr>\n",
       "    <tr>\n",
       "      <th>11</th>\n",
       "      <td>SOLIH</td>\n",
       "      <td>0.935019</td>\n",
       "    </tr>\n",
       "    <tr>\n",
       "      <th>12</th>\n",
       "      <td>VETERANS</td>\n",
       "      <td>0.890727</td>\n",
       "    </tr>\n",
       "    <tr>\n",
       "      <th>13</th>\n",
       "      <td>RFA_2</td>\n",
       "      <td>0.000000</td>\n",
       "    </tr>\n",
       "    <tr>\n",
       "      <th>14</th>\n",
       "      <td>RFA_3</td>\n",
       "      <td>0.020438</td>\n",
       "    </tr>\n",
       "    <tr>\n",
       "      <th>15</th>\n",
       "      <td>RFA_4</td>\n",
       "      <td>0.024232</td>\n",
       "    </tr>\n",
       "    <tr>\n",
       "      <th>16</th>\n",
       "      <td>RFA_6</td>\n",
       "      <td>0.037280</td>\n",
       "    </tr>\n",
       "    <tr>\n",
       "      <th>17</th>\n",
       "      <td>RFA_7</td>\n",
       "      <td>0.093007</td>\n",
       "    </tr>\n",
       "    <tr>\n",
       "      <th>18</th>\n",
       "      <td>RFA_8</td>\n",
       "      <td>0.036798</td>\n",
       "    </tr>\n",
       "    <tr>\n",
       "      <th>19</th>\n",
       "      <td>RFA_9</td>\n",
       "      <td>0.117857</td>\n",
       "    </tr>\n",
       "    <tr>\n",
       "      <th>20</th>\n",
       "      <td>RFA_11</td>\n",
       "      <td>0.109232</td>\n",
       "    </tr>\n",
       "    <tr>\n",
       "      <th>21</th>\n",
       "      <td>RFA_12</td>\n",
       "      <td>0.093521</td>\n",
       "    </tr>\n",
       "    <tr>\n",
       "      <th>22</th>\n",
       "      <td>RFA_14</td>\n",
       "      <td>0.197742</td>\n",
       "    </tr>\n",
       "    <tr>\n",
       "      <th>23</th>\n",
       "      <td>RFA_16</td>\n",
       "      <td>0.213988</td>\n",
       "    </tr>\n",
       "    <tr>\n",
       "      <th>24</th>\n",
       "      <td>RFA_18</td>\n",
       "      <td>0.222855</td>\n",
       "    </tr>\n",
       "    <tr>\n",
       "      <th>25</th>\n",
       "      <td>RFA_2R</td>\n",
       "      <td>0.000000</td>\n",
       "    </tr>\n",
       "    <tr>\n",
       "      <th>26</th>\n",
       "      <td>RFA_2A</td>\n",
       "      <td>0.000000</td>\n",
       "    </tr>\n",
       "    <tr>\n",
       "      <th>27</th>\n",
       "      <td>MDMAUD_R</td>\n",
       "      <td>0.000000</td>\n",
       "    </tr>\n",
       "    <tr>\n",
       "      <th>28</th>\n",
       "      <td>MDMAUD_F</td>\n",
       "      <td>0.000000</td>\n",
       "    </tr>\n",
       "    <tr>\n",
       "      <th>29</th>\n",
       "      <td>MDMAUD_A</td>\n",
       "      <td>0.000000</td>\n",
       "    </tr>\n",
       "    <tr>\n",
       "      <th>30</th>\n",
       "      <td>GEOCODE2</td>\n",
       "      <td>0.003343</td>\n",
       "    </tr>\n",
       "  </tbody>\n",
       "</table>\n",
       "</div>"
      ],
      "text/plain": [
       "   column_name  nulls_percentage\n",
       "0      OSOURCE          0.009726\n",
       "1        STATE          0.000000\n",
       "2          ZIP          0.000000\n",
       "3     MAILCODE          0.000000\n",
       "4       NOEXCH          0.000073\n",
       "5       MDMAUD          0.000000\n",
       "6       DOMAIN          0.024274\n",
       "7      CLUSTER          0.024274\n",
       "8     HOMEOWNR          0.232969\n",
       "9       GENDER          0.030992\n",
       "10    DATASRCE          0.223033\n",
       "11       SOLIH          0.935019\n",
       "12    VETERANS          0.890727\n",
       "13       RFA_2          0.000000\n",
       "14       RFA_3          0.020438\n",
       "15       RFA_4          0.024232\n",
       "16       RFA_6          0.037280\n",
       "17       RFA_7          0.093007\n",
       "18       RFA_8          0.036798\n",
       "19       RFA_9          0.117857\n",
       "20      RFA_11          0.109232\n",
       "21      RFA_12          0.093521\n",
       "22      RFA_14          0.197742\n",
       "23      RFA_16          0.213988\n",
       "24      RFA_18          0.222855\n",
       "25      RFA_2R          0.000000\n",
       "26      RFA_2A          0.000000\n",
       "27    MDMAUD_R          0.000000\n",
       "28    MDMAUD_F          0.000000\n",
       "29    MDMAUD_A          0.000000\n",
       "30    GEOCODE2          0.003343"
      ]
     },
     "execution_count": 21,
     "metadata": {},
     "output_type": "execute_result"
    }
   ],
   "source": [
    "nulls_percent_df = pd.DataFrame(categorical.isna().sum()/len(categorical)).reset_index()\n",
    "nulls_percent_df.columns = ['column_name', 'nulls_percentage']\n",
    "nulls_percent_df"
   ]
  },
  {
   "cell_type": "code",
   "execution_count": 22,
   "metadata": {},
   "outputs": [
    {
     "data": {
      "text/html": [
       "<div>\n",
       "<style scoped>\n",
       "    .dataframe tbody tr th:only-of-type {\n",
       "        vertical-align: middle;\n",
       "    }\n",
       "\n",
       "    .dataframe tbody tr th {\n",
       "        vertical-align: top;\n",
       "    }\n",
       "\n",
       "    .dataframe thead th {\n",
       "        text-align: right;\n",
       "    }\n",
       "</style>\n",
       "<table border=\"1\" class=\"dataframe\">\n",
       "  <thead>\n",
       "    <tr style=\"text-align: right;\">\n",
       "      <th></th>\n",
       "      <th>column_name</th>\n",
       "      <th>nulls_percentage</th>\n",
       "    </tr>\n",
       "  </thead>\n",
       "  <tbody>\n",
       "    <tr>\n",
       "      <th>0</th>\n",
       "      <td>OSOURCE</td>\n",
       "      <td>0.009726</td>\n",
       "    </tr>\n",
       "    <tr>\n",
       "      <th>4</th>\n",
       "      <td>NOEXCH</td>\n",
       "      <td>0.000073</td>\n",
       "    </tr>\n",
       "    <tr>\n",
       "      <th>6</th>\n",
       "      <td>DOMAIN</td>\n",
       "      <td>0.024274</td>\n",
       "    </tr>\n",
       "    <tr>\n",
       "      <th>7</th>\n",
       "      <td>CLUSTER</td>\n",
       "      <td>0.024274</td>\n",
       "    </tr>\n",
       "    <tr>\n",
       "      <th>8</th>\n",
       "      <td>HOMEOWNR</td>\n",
       "      <td>0.232969</td>\n",
       "    </tr>\n",
       "    <tr>\n",
       "      <th>9</th>\n",
       "      <td>GENDER</td>\n",
       "      <td>0.030992</td>\n",
       "    </tr>\n",
       "    <tr>\n",
       "      <th>10</th>\n",
       "      <td>DATASRCE</td>\n",
       "      <td>0.223033</td>\n",
       "    </tr>\n",
       "    <tr>\n",
       "      <th>11</th>\n",
       "      <td>SOLIH</td>\n",
       "      <td>0.935019</td>\n",
       "    </tr>\n",
       "    <tr>\n",
       "      <th>12</th>\n",
       "      <td>VETERANS</td>\n",
       "      <td>0.890727</td>\n",
       "    </tr>\n",
       "    <tr>\n",
       "      <th>14</th>\n",
       "      <td>RFA_3</td>\n",
       "      <td>0.020438</td>\n",
       "    </tr>\n",
       "    <tr>\n",
       "      <th>15</th>\n",
       "      <td>RFA_4</td>\n",
       "      <td>0.024232</td>\n",
       "    </tr>\n",
       "    <tr>\n",
       "      <th>16</th>\n",
       "      <td>RFA_6</td>\n",
       "      <td>0.037280</td>\n",
       "    </tr>\n",
       "    <tr>\n",
       "      <th>17</th>\n",
       "      <td>RFA_7</td>\n",
       "      <td>0.093007</td>\n",
       "    </tr>\n",
       "    <tr>\n",
       "      <th>18</th>\n",
       "      <td>RFA_8</td>\n",
       "      <td>0.036798</td>\n",
       "    </tr>\n",
       "    <tr>\n",
       "      <th>19</th>\n",
       "      <td>RFA_9</td>\n",
       "      <td>0.117857</td>\n",
       "    </tr>\n",
       "    <tr>\n",
       "      <th>20</th>\n",
       "      <td>RFA_11</td>\n",
       "      <td>0.109232</td>\n",
       "    </tr>\n",
       "    <tr>\n",
       "      <th>21</th>\n",
       "      <td>RFA_12</td>\n",
       "      <td>0.093521</td>\n",
       "    </tr>\n",
       "    <tr>\n",
       "      <th>22</th>\n",
       "      <td>RFA_14</td>\n",
       "      <td>0.197742</td>\n",
       "    </tr>\n",
       "    <tr>\n",
       "      <th>23</th>\n",
       "      <td>RFA_16</td>\n",
       "      <td>0.213988</td>\n",
       "    </tr>\n",
       "    <tr>\n",
       "      <th>24</th>\n",
       "      <td>RFA_18</td>\n",
       "      <td>0.222855</td>\n",
       "    </tr>\n",
       "    <tr>\n",
       "      <th>30</th>\n",
       "      <td>GEOCODE2</td>\n",
       "      <td>0.003343</td>\n",
       "    </tr>\n",
       "  </tbody>\n",
       "</table>\n",
       "</div>"
      ],
      "text/plain": [
       "   column_name  nulls_percentage\n",
       "0      OSOURCE          0.009726\n",
       "4       NOEXCH          0.000073\n",
       "6       DOMAIN          0.024274\n",
       "7      CLUSTER          0.024274\n",
       "8     HOMEOWNR          0.232969\n",
       "9       GENDER          0.030992\n",
       "10    DATASRCE          0.223033\n",
       "11       SOLIH          0.935019\n",
       "12    VETERANS          0.890727\n",
       "14       RFA_3          0.020438\n",
       "15       RFA_4          0.024232\n",
       "16       RFA_6          0.037280\n",
       "17       RFA_7          0.093007\n",
       "18       RFA_8          0.036798\n",
       "19       RFA_9          0.117857\n",
       "20      RFA_11          0.109232\n",
       "21      RFA_12          0.093521\n",
       "22      RFA_14          0.197742\n",
       "23      RFA_16          0.213988\n",
       "24      RFA_18          0.222855\n",
       "30    GEOCODE2          0.003343"
      ]
     },
     "execution_count": 22,
     "metadata": {},
     "output_type": "execute_result"
    }
   ],
   "source": [
    "nulls_percent_df[nulls_percent_df['nulls_percentage']!=0]"
   ]
  },
  {
   "cell_type": "code",
   "execution_count": 23,
   "metadata": {},
   "outputs": [
    {
     "name": "stdout",
     "output_type": "stream",
     "text": [
      "2\n"
     ]
    }
   ],
   "source": [
    "columns_above_threshold_3 = nulls_percent_df[nulls_percent_df['nulls_percentage'] >0.85]\n",
    "print(len(columns_above_threshold_3['column_name']))"
   ]
  },
  {
   "cell_type": "code",
   "execution_count": 24,
   "metadata": {},
   "outputs": [
    {
     "name": "stdout",
     "output_type": "stream",
     "text": [
      "['SOLIH', 'VETERANS']\n"
     ]
    }
   ],
   "source": [
    "drop_columns_list = list(columns_above_threshold_3['column_name'])\n",
    "print(drop_columns_list)"
   ]
  },
  {
   "cell_type": "code",
   "execution_count": 25,
   "metadata": {},
   "outputs": [],
   "source": [
    "categorical = categorical.drop(['SOLIH', 'VETERANS'], axis=1)"
   ]
  },
  {
   "cell_type": "code",
   "execution_count": 26,
   "metadata": {},
   "outputs": [],
   "source": [
    "categorical = categorical.drop(['OSOURCE','ZIP'], axis=1)"
   ]
  },
  {
   "cell_type": "code",
   "execution_count": 27,
   "metadata": {},
   "outputs": [
    {
     "name": "stdout",
     "output_type": "stream",
     "text": [
      "F    51277\n",
      "M    39094\n",
      "U     1715\n",
      "J      365\n",
      "C        2\n",
      "A        2\n",
      "Name: GENDER, dtype: int64\n"
     ]
    }
   ],
   "source": [
    "print(categorical['GENDER'].value_counts())\n",
    "categorical['GENDER'] = categorical['GENDER'].fillna('F')"
   ]
  },
  {
   "cell_type": "code",
   "execution_count": 28,
   "metadata": {},
   "outputs": [
    {
     "data": {
      "text/html": [
       "<div>\n",
       "<style scoped>\n",
       "    .dataframe tbody tr th:only-of-type {\n",
       "        vertical-align: middle;\n",
       "    }\n",
       "\n",
       "    .dataframe tbody tr th {\n",
       "        vertical-align: top;\n",
       "    }\n",
       "\n",
       "    .dataframe thead th {\n",
       "        text-align: right;\n",
       "    }\n",
       "</style>\n",
       "<table border=\"1\" class=\"dataframe\">\n",
       "  <thead>\n",
       "    <tr style=\"text-align: right;\">\n",
       "      <th></th>\n",
       "      <th>STATE</th>\n",
       "      <th>MAILCODE</th>\n",
       "      <th>NOEXCH</th>\n",
       "      <th>MDMAUD</th>\n",
       "      <th>DOMAIN</th>\n",
       "      <th>CLUSTER</th>\n",
       "      <th>HOMEOWNR</th>\n",
       "      <th>GENDER</th>\n",
       "      <th>DATASRCE</th>\n",
       "      <th>RFA_2</th>\n",
       "      <th>...</th>\n",
       "      <th>RFA_12</th>\n",
       "      <th>RFA_14</th>\n",
       "      <th>RFA_16</th>\n",
       "      <th>RFA_18</th>\n",
       "      <th>RFA_2R</th>\n",
       "      <th>RFA_2A</th>\n",
       "      <th>MDMAUD_R</th>\n",
       "      <th>MDMAUD_F</th>\n",
       "      <th>MDMAUD_A</th>\n",
       "      <th>GEOCODE2</th>\n",
       "    </tr>\n",
       "  </thead>\n",
       "  <tbody>\n",
       "    <tr>\n",
       "      <th>0</th>\n",
       "      <td>IL</td>\n",
       "      <td>A</td>\n",
       "      <td>0</td>\n",
       "      <td>XXXX</td>\n",
       "      <td>T2</td>\n",
       "      <td>36</td>\n",
       "      <td>NaN</td>\n",
       "      <td>F</td>\n",
       "      <td>NaN</td>\n",
       "      <td>L4E</td>\n",
       "      <td>...</td>\n",
       "      <td>S4E</td>\n",
       "      <td>S4E</td>\n",
       "      <td>S4E</td>\n",
       "      <td>S4E</td>\n",
       "      <td>L</td>\n",
       "      <td>E</td>\n",
       "      <td>X</td>\n",
       "      <td>X</td>\n",
       "      <td>X</td>\n",
       "      <td>C</td>\n",
       "    </tr>\n",
       "    <tr>\n",
       "      <th>1</th>\n",
       "      <td>CA</td>\n",
       "      <td>A</td>\n",
       "      <td>0</td>\n",
       "      <td>XXXX</td>\n",
       "      <td>S1</td>\n",
       "      <td>14</td>\n",
       "      <td>H</td>\n",
       "      <td>M</td>\n",
       "      <td>3</td>\n",
       "      <td>L2G</td>\n",
       "      <td>...</td>\n",
       "      <td>A1E</td>\n",
       "      <td>NaN</td>\n",
       "      <td>L1E</td>\n",
       "      <td>NaN</td>\n",
       "      <td>L</td>\n",
       "      <td>G</td>\n",
       "      <td>X</td>\n",
       "      <td>X</td>\n",
       "      <td>X</td>\n",
       "      <td>A</td>\n",
       "    </tr>\n",
       "    <tr>\n",
       "      <th>2</th>\n",
       "      <td>NC</td>\n",
       "      <td>A</td>\n",
       "      <td>0</td>\n",
       "      <td>XXXX</td>\n",
       "      <td>R2</td>\n",
       "      <td>43</td>\n",
       "      <td>U</td>\n",
       "      <td>M</td>\n",
       "      <td>3</td>\n",
       "      <td>L4E</td>\n",
       "      <td>...</td>\n",
       "      <td>S4F</td>\n",
       "      <td>S4F</td>\n",
       "      <td>S4F</td>\n",
       "      <td>S4D</td>\n",
       "      <td>L</td>\n",
       "      <td>E</td>\n",
       "      <td>X</td>\n",
       "      <td>X</td>\n",
       "      <td>X</td>\n",
       "      <td>C</td>\n",
       "    </tr>\n",
       "    <tr>\n",
       "      <th>3</th>\n",
       "      <td>CA</td>\n",
       "      <td>A</td>\n",
       "      <td>0</td>\n",
       "      <td>XXXX</td>\n",
       "      <td>R2</td>\n",
       "      <td>44</td>\n",
       "      <td>U</td>\n",
       "      <td>F</td>\n",
       "      <td>3</td>\n",
       "      <td>L4E</td>\n",
       "      <td>...</td>\n",
       "      <td>S4E</td>\n",
       "      <td>S4E</td>\n",
       "      <td>S4E</td>\n",
       "      <td>S2D</td>\n",
       "      <td>L</td>\n",
       "      <td>E</td>\n",
       "      <td>X</td>\n",
       "      <td>X</td>\n",
       "      <td>X</td>\n",
       "      <td>C</td>\n",
       "    </tr>\n",
       "    <tr>\n",
       "      <th>4</th>\n",
       "      <td>FL</td>\n",
       "      <td>A</td>\n",
       "      <td>0</td>\n",
       "      <td>XXXX</td>\n",
       "      <td>S2</td>\n",
       "      <td>16</td>\n",
       "      <td>H</td>\n",
       "      <td>F</td>\n",
       "      <td>3</td>\n",
       "      <td>L2F</td>\n",
       "      <td>...</td>\n",
       "      <td>A1E</td>\n",
       "      <td>L3D</td>\n",
       "      <td>L3D</td>\n",
       "      <td>A2D</td>\n",
       "      <td>L</td>\n",
       "      <td>F</td>\n",
       "      <td>X</td>\n",
       "      <td>X</td>\n",
       "      <td>X</td>\n",
       "      <td>A</td>\n",
       "    </tr>\n",
       "  </tbody>\n",
       "</table>\n",
       "<p>5 rows × 27 columns</p>\n",
       "</div>"
      ],
      "text/plain": [
       "  STATE MAILCODE NOEXCH MDMAUD DOMAIN CLUSTER HOMEOWNR GENDER DATASRCE RFA_2  \\\n",
       "0    IL        A      0   XXXX     T2      36      NaN      F      NaN   L4E   \n",
       "1    CA        A      0   XXXX     S1      14        H      M        3   L2G   \n",
       "2    NC        A      0   XXXX     R2      43        U      M        3   L4E   \n",
       "3    CA        A      0   XXXX     R2      44        U      F        3   L4E   \n",
       "4    FL        A      0   XXXX     S2      16        H      F        3   L2F   \n",
       "\n",
       "   ... RFA_12 RFA_14 RFA_16 RFA_18 RFA_2R RFA_2A MDMAUD_R MDMAUD_F MDMAUD_A  \\\n",
       "0  ...    S4E    S4E    S4E    S4E      L      E        X        X        X   \n",
       "1  ...    A1E    NaN    L1E    NaN      L      G        X        X        X   \n",
       "2  ...    S4F    S4F    S4F    S4D      L      E        X        X        X   \n",
       "3  ...    S4E    S4E    S4E    S2D      L      E        X        X        X   \n",
       "4  ...    A1E    L3D    L3D    A2D      L      F        X        X        X   \n",
       "\n",
       "  GEOCODE2  \n",
       "0        C  \n",
       "1        A  \n",
       "2        C  \n",
       "3        C  \n",
       "4        A  \n",
       "\n",
       "[5 rows x 27 columns]"
      ]
     },
     "execution_count": 28,
     "metadata": {},
     "output_type": "execute_result"
    }
   ],
   "source": [
    "categorical.head()"
   ]
  },
  {
   "cell_type": "code",
   "execution_count": 29,
   "metadata": {},
   "outputs": [
    {
     "data": {
      "text/plain": [
       "R2     13623\n",
       "T2     12369\n",
       "S1     11503\n",
       "S2      8530\n",
       "C2      8264\n",
       "C1      6145\n",
       "C3      5280\n",
       "T1      4982\n",
       "R3      4809\n",
       "U1      4510\n",
       "U2      3254\n",
       "U3      2598\n",
       "NaN     2316\n",
       "T3      2176\n",
       "S3      1891\n",
       "U4      1804\n",
       "R1      1358\n",
       "Name: DOMAIN, dtype: int64"
      ]
     },
     "execution_count": 29,
     "metadata": {},
     "output_type": "execute_result"
    }
   ],
   "source": [
    "categorical['DOMAIN'].value_counts(dropna=False)"
   ]
  },
  {
   "cell_type": "code",
   "execution_count": 30,
   "metadata": {},
   "outputs": [],
   "source": [
    "categorical['DOMAIN'] = categorical['DOMAIN'].fillna('R2')"
   ]
  },
  {
   "cell_type": "code",
   "execution_count": 31,
   "metadata": {},
   "outputs": [],
   "source": [
    "categorical['DOMAIN_A'] = list(map(lambda x: x[0], categorical['DOMAIN']))\n",
    "categorical['DOMAIN_B'] = list(map(lambda x: x[1], categorical['DOMAIN']))"
   ]
  },
  {
   "cell_type": "code",
   "execution_count": 32,
   "metadata": {},
   "outputs": [],
   "source": [
    "categorical = categorical.drop(columns=['DOMAIN'])"
   ]
  },
  {
   "cell_type": "code",
   "execution_count": 33,
   "metadata": {},
   "outputs": [
    {
     "data": {
      "text/html": [
       "<div>\n",
       "<style scoped>\n",
       "    .dataframe tbody tr th:only-of-type {\n",
       "        vertical-align: middle;\n",
       "    }\n",
       "\n",
       "    .dataframe tbody tr th {\n",
       "        vertical-align: top;\n",
       "    }\n",
       "\n",
       "    .dataframe thead th {\n",
       "        text-align: right;\n",
       "    }\n",
       "</style>\n",
       "<table border=\"1\" class=\"dataframe\">\n",
       "  <thead>\n",
       "    <tr style=\"text-align: right;\">\n",
       "      <th></th>\n",
       "      <th>STATE</th>\n",
       "      <th>MAILCODE</th>\n",
       "      <th>NOEXCH</th>\n",
       "      <th>MDMAUD</th>\n",
       "      <th>CLUSTER</th>\n",
       "      <th>HOMEOWNR</th>\n",
       "      <th>GENDER</th>\n",
       "      <th>DATASRCE</th>\n",
       "      <th>RFA_2</th>\n",
       "      <th>RFA_3</th>\n",
       "      <th>...</th>\n",
       "      <th>RFA_16</th>\n",
       "      <th>RFA_18</th>\n",
       "      <th>RFA_2R</th>\n",
       "      <th>RFA_2A</th>\n",
       "      <th>MDMAUD_R</th>\n",
       "      <th>MDMAUD_F</th>\n",
       "      <th>MDMAUD_A</th>\n",
       "      <th>GEOCODE2</th>\n",
       "      <th>DOMAIN_A</th>\n",
       "      <th>DOMAIN_B</th>\n",
       "    </tr>\n",
       "  </thead>\n",
       "  <tbody>\n",
       "    <tr>\n",
       "      <th>0</th>\n",
       "      <td>IL</td>\n",
       "      <td>A</td>\n",
       "      <td>0</td>\n",
       "      <td>XXXX</td>\n",
       "      <td>36</td>\n",
       "      <td>NaN</td>\n",
       "      <td>F</td>\n",
       "      <td>NaN</td>\n",
       "      <td>L4E</td>\n",
       "      <td>S4E</td>\n",
       "      <td>...</td>\n",
       "      <td>S4E</td>\n",
       "      <td>S4E</td>\n",
       "      <td>L</td>\n",
       "      <td>E</td>\n",
       "      <td>X</td>\n",
       "      <td>X</td>\n",
       "      <td>X</td>\n",
       "      <td>C</td>\n",
       "      <td>T</td>\n",
       "      <td>2</td>\n",
       "    </tr>\n",
       "    <tr>\n",
       "      <th>1</th>\n",
       "      <td>CA</td>\n",
       "      <td>A</td>\n",
       "      <td>0</td>\n",
       "      <td>XXXX</td>\n",
       "      <td>14</td>\n",
       "      <td>H</td>\n",
       "      <td>M</td>\n",
       "      <td>3</td>\n",
       "      <td>L2G</td>\n",
       "      <td>A2G</td>\n",
       "      <td>...</td>\n",
       "      <td>L1E</td>\n",
       "      <td>NaN</td>\n",
       "      <td>L</td>\n",
       "      <td>G</td>\n",
       "      <td>X</td>\n",
       "      <td>X</td>\n",
       "      <td>X</td>\n",
       "      <td>A</td>\n",
       "      <td>S</td>\n",
       "      <td>1</td>\n",
       "    </tr>\n",
       "    <tr>\n",
       "      <th>2</th>\n",
       "      <td>NC</td>\n",
       "      <td>A</td>\n",
       "      <td>0</td>\n",
       "      <td>XXXX</td>\n",
       "      <td>43</td>\n",
       "      <td>U</td>\n",
       "      <td>M</td>\n",
       "      <td>3</td>\n",
       "      <td>L4E</td>\n",
       "      <td>S4E</td>\n",
       "      <td>...</td>\n",
       "      <td>S4F</td>\n",
       "      <td>S4D</td>\n",
       "      <td>L</td>\n",
       "      <td>E</td>\n",
       "      <td>X</td>\n",
       "      <td>X</td>\n",
       "      <td>X</td>\n",
       "      <td>C</td>\n",
       "      <td>R</td>\n",
       "      <td>2</td>\n",
       "    </tr>\n",
       "    <tr>\n",
       "      <th>3</th>\n",
       "      <td>CA</td>\n",
       "      <td>A</td>\n",
       "      <td>0</td>\n",
       "      <td>XXXX</td>\n",
       "      <td>44</td>\n",
       "      <td>U</td>\n",
       "      <td>F</td>\n",
       "      <td>3</td>\n",
       "      <td>L4E</td>\n",
       "      <td>S4E</td>\n",
       "      <td>...</td>\n",
       "      <td>S4E</td>\n",
       "      <td>S2D</td>\n",
       "      <td>L</td>\n",
       "      <td>E</td>\n",
       "      <td>X</td>\n",
       "      <td>X</td>\n",
       "      <td>X</td>\n",
       "      <td>C</td>\n",
       "      <td>R</td>\n",
       "      <td>2</td>\n",
       "    </tr>\n",
       "    <tr>\n",
       "      <th>4</th>\n",
       "      <td>FL</td>\n",
       "      <td>A</td>\n",
       "      <td>0</td>\n",
       "      <td>XXXX</td>\n",
       "      <td>16</td>\n",
       "      <td>H</td>\n",
       "      <td>F</td>\n",
       "      <td>3</td>\n",
       "      <td>L2F</td>\n",
       "      <td>A2F</td>\n",
       "      <td>...</td>\n",
       "      <td>L3D</td>\n",
       "      <td>A2D</td>\n",
       "      <td>L</td>\n",
       "      <td>F</td>\n",
       "      <td>X</td>\n",
       "      <td>X</td>\n",
       "      <td>X</td>\n",
       "      <td>A</td>\n",
       "      <td>S</td>\n",
       "      <td>2</td>\n",
       "    </tr>\n",
       "  </tbody>\n",
       "</table>\n",
       "<p>5 rows × 28 columns</p>\n",
       "</div>"
      ],
      "text/plain": [
       "  STATE MAILCODE NOEXCH MDMAUD CLUSTER HOMEOWNR GENDER DATASRCE RFA_2 RFA_3  \\\n",
       "0    IL        A      0   XXXX      36      NaN      F      NaN   L4E   S4E   \n",
       "1    CA        A      0   XXXX      14        H      M        3   L2G   A2G   \n",
       "2    NC        A      0   XXXX      43        U      M        3   L4E   S4E   \n",
       "3    CA        A      0   XXXX      44        U      F        3   L4E   S4E   \n",
       "4    FL        A      0   XXXX      16        H      F        3   L2F   A2F   \n",
       "\n",
       "   ... RFA_16 RFA_18 RFA_2R RFA_2A MDMAUD_R MDMAUD_F MDMAUD_A GEOCODE2  \\\n",
       "0  ...    S4E    S4E      L      E        X        X        X        C   \n",
       "1  ...    L1E    NaN      L      G        X        X        X        A   \n",
       "2  ...    S4F    S4D      L      E        X        X        X        C   \n",
       "3  ...    S4E    S2D      L      E        X        X        X        C   \n",
       "4  ...    L3D    A2D      L      F        X        X        X        A   \n",
       "\n",
       "  DOMAIN_A DOMAIN_B  \n",
       "0        T        2  \n",
       "1        S        1  \n",
       "2        R        2  \n",
       "3        R        2  \n",
       "4        S        2  \n",
       "\n",
       "[5 rows x 28 columns]"
      ]
     },
     "execution_count": 33,
     "metadata": {},
     "output_type": "execute_result"
    }
   ],
   "source": [
    "categorical.head()"
   ]
  },
  {
   "cell_type": "code",
   "execution_count": 34,
   "metadata": {},
   "outputs": [
    {
     "data": {
      "text/plain": [
       "A    94013\n",
       "B     1399\n",
       "Name: MAILCODE, dtype: int64"
      ]
     },
     "execution_count": 34,
     "metadata": {},
     "output_type": "execute_result"
    }
   ],
   "source": [
    "categorical['MAILCODE'].value_counts()"
   ]
  },
  {
   "cell_type": "code",
   "execution_count": 35,
   "metadata": {},
   "outputs": [],
   "source": [
    "drop_list=[]"
   ]
  },
  {
   "cell_type": "code",
   "execution_count": 36,
   "metadata": {},
   "outputs": [],
   "source": [
    "drop_list.append('MAILCODE')"
   ]
  },
  {
   "cell_type": "code",
   "execution_count": 37,
   "metadata": {},
   "outputs": [
    {
     "data": {
      "text/plain": [
       "0    61203\n",
       "0    33882\n",
       "1      195\n",
       "1       90\n",
       "X       35\n",
       "Name: NOEXCH, dtype: int64"
      ]
     },
     "execution_count": 37,
     "metadata": {},
     "output_type": "execute_result"
    }
   ],
   "source": [
    "categorical['NOEXCH'].value_counts()"
   ]
  },
  {
   "cell_type": "code",
   "execution_count": 38,
   "metadata": {},
   "outputs": [],
   "source": [
    "drop_list.append('NOEXCH')"
   ]
  },
  {
   "cell_type": "code",
   "execution_count": 39,
   "metadata": {},
   "outputs": [],
   "source": [
    "drop_list.append('MDMAUD')"
   ]
  },
  {
   "cell_type": "code",
   "execution_count": 40,
   "metadata": {},
   "outputs": [
    {
     "data": {
      "text/plain": [
       "X    95118\n",
       "C      109\n",
       "L       70\n",
       "D       65\n",
       "I       50\n",
       "Name: MDMAUD_R, dtype: int64"
      ]
     },
     "execution_count": 40,
     "metadata": {},
     "output_type": "execute_result"
    }
   ],
   "source": [
    "categorical['MDMAUD_R'].value_counts()"
   ]
  },
  {
   "cell_type": "code",
   "execution_count": 41,
   "metadata": {},
   "outputs": [],
   "source": [
    "drop_list = drop_list + ['MDMAUD_R', 'MDMAUD_F','MDMAUD_A']"
   ]
  },
  {
   "cell_type": "code",
   "execution_count": 42,
   "metadata": {},
   "outputs": [
    {
     "data": {
      "text/plain": [
       "['MAILCODE', 'NOEXCH', 'MDMAUD', 'MDMAUD_R', 'MDMAUD_F', 'MDMAUD_A']"
      ]
     },
     "execution_count": 42,
     "metadata": {},
     "output_type": "execute_result"
    }
   ],
   "source": [
    "drop_list"
   ]
  },
  {
   "cell_type": "code",
   "execution_count": 43,
   "metadata": {},
   "outputs": [
    {
     "data": {
      "text/plain": [
       "40     3979\n",
       "35     3624\n",
       "36     3617\n",
       "27     3553\n",
       "24     3539\n",
       "49     3315\n",
       "12     3000\n",
       "18     2897\n",
       "13     2706\n",
       "30     2607\n",
       "39     2601\n",
       "45     2515\n",
       "43     2385\n",
       "11     2378\n",
       "51     2322\n",
       "NaN    2316\n",
       "14     2246\n",
       "41     2176\n",
       "44     1953\n",
       "16     1947\n",
       "2      1942\n",
       "21     1891\n",
       "8      1828\n",
       "10     1804\n",
       "46     1800\n",
       "28     1630\n",
       "17     1621\n",
       "20     1568\n",
       "53     1441\n",
       "3      1428\n",
       "34     1358\n",
       "42     1358\n",
       "23     1324\n",
       "31     1285\n",
       "22     1282\n",
       "25     1275\n",
       "38     1200\n",
       "15     1173\n",
       "1      1140\n",
       "7      1076\n",
       "5      1014\n",
       "37      972\n",
       "26      947\n",
       "47      868\n",
       "29      859\n",
       "32      795\n",
       "48      787\n",
       "50      776\n",
       "9       770\n",
       "6       603\n",
       "33      593\n",
       "4       561\n",
       "19      497\n",
       "52      270\n",
       "Name: CLUSTER, dtype: int64"
      ]
     },
     "execution_count": 43,
     "metadata": {},
     "output_type": "execute_result"
    }
   ],
   "source": [
    "categorical['CLUSTER'].value_counts(dropna=False)"
   ]
  },
  {
   "cell_type": "code",
   "execution_count": 44,
   "metadata": {},
   "outputs": [],
   "source": [
    "categorical['CLUSTER'] = categorical['CLUSTER'].fillna('40')"
   ]
  },
  {
   "cell_type": "code",
   "execution_count": 45,
   "metadata": {},
   "outputs": [
    {
     "data": {
      "text/plain": [
       "H      52354\n",
       "NaN    22228\n",
       "U      20830\n",
       "Name: HOMEOWNR, dtype: int64"
      ]
     },
     "execution_count": 45,
     "metadata": {},
     "output_type": "execute_result"
    }
   ],
   "source": [
    "categorical['HOMEOWNR'].value_counts(dropna=False)"
   ]
  },
  {
   "cell_type": "code",
   "execution_count": 46,
   "metadata": {},
   "outputs": [],
   "source": [
    "categorical['HOMEOWNR'] = categorical['HOMEOWNR'].fillna('U')"
   ]
  },
  {
   "cell_type": "code",
   "execution_count": 47,
   "metadata": {},
   "outputs": [
    {
     "data": {
      "text/plain": [
       "F    54234\n",
       "M    39094\n",
       "U     1715\n",
       "J      365\n",
       "C        2\n",
       "A        2\n",
       "Name: GENDER, dtype: int64"
      ]
     },
     "execution_count": 47,
     "metadata": {},
     "output_type": "execute_result"
    }
   ],
   "source": [
    "categorical['GENDER'].value_counts(dropna=False)"
   ]
  },
  {
   "cell_type": "code",
   "execution_count": 48,
   "metadata": {},
   "outputs": [],
   "source": [
    "#discuss why this makes more sense than the alternatives\n",
    "categorical['GENDER'] = categorical['GENDER'].fillna('F')"
   ]
  },
  {
   "cell_type": "code",
   "execution_count": 49,
   "metadata": {},
   "outputs": [
    {
     "data": {
      "text/plain": [
       "3      43549\n",
       "2      23455\n",
       "NaN    21280\n",
       "1       7128\n",
       "Name: DATASRCE, dtype: int64"
      ]
     },
     "execution_count": 49,
     "metadata": {},
     "output_type": "execute_result"
    }
   ],
   "source": [
    "categorical['DATASRCE'].value_counts(dropna=False)"
   ]
  },
  {
   "cell_type": "code",
   "execution_count": 50,
   "metadata": {},
   "outputs": [],
   "source": [
    "categorical['DATASRCE'] = categorical['DATASRCE'].fillna('3')"
   ]
  },
  {
   "cell_type": "code",
   "execution_count": 51,
   "metadata": {},
   "outputs": [],
   "source": [
    "categorical['GEOCODE2'] = categorical['GEOCODE2'].fillna('A')"
   ]
  },
  {
   "cell_type": "code",
   "execution_count": 52,
   "metadata": {},
   "outputs": [
    {
     "data": {
      "text/html": [
       "<div>\n",
       "<style scoped>\n",
       "    .dataframe tbody tr th:only-of-type {\n",
       "        vertical-align: middle;\n",
       "    }\n",
       "\n",
       "    .dataframe tbody tr th {\n",
       "        vertical-align: top;\n",
       "    }\n",
       "\n",
       "    .dataframe thead th {\n",
       "        text-align: right;\n",
       "    }\n",
       "</style>\n",
       "<table border=\"1\" class=\"dataframe\">\n",
       "  <thead>\n",
       "    <tr style=\"text-align: right;\">\n",
       "      <th></th>\n",
       "      <th>STATE</th>\n",
       "      <th>MAILCODE</th>\n",
       "      <th>NOEXCH</th>\n",
       "      <th>MDMAUD</th>\n",
       "      <th>CLUSTER</th>\n",
       "      <th>HOMEOWNR</th>\n",
       "      <th>GENDER</th>\n",
       "      <th>DATASRCE</th>\n",
       "      <th>RFA_2</th>\n",
       "      <th>RFA_3</th>\n",
       "      <th>...</th>\n",
       "      <th>RFA_16</th>\n",
       "      <th>RFA_18</th>\n",
       "      <th>RFA_2R</th>\n",
       "      <th>RFA_2A</th>\n",
       "      <th>MDMAUD_R</th>\n",
       "      <th>MDMAUD_F</th>\n",
       "      <th>MDMAUD_A</th>\n",
       "      <th>GEOCODE2</th>\n",
       "      <th>DOMAIN_A</th>\n",
       "      <th>DOMAIN_B</th>\n",
       "    </tr>\n",
       "  </thead>\n",
       "  <tbody>\n",
       "    <tr>\n",
       "      <th>0</th>\n",
       "      <td>IL</td>\n",
       "      <td>A</td>\n",
       "      <td>0</td>\n",
       "      <td>XXXX</td>\n",
       "      <td>36</td>\n",
       "      <td>U</td>\n",
       "      <td>F</td>\n",
       "      <td>3</td>\n",
       "      <td>L4E</td>\n",
       "      <td>S4E</td>\n",
       "      <td>...</td>\n",
       "      <td>S4E</td>\n",
       "      <td>S4E</td>\n",
       "      <td>L</td>\n",
       "      <td>E</td>\n",
       "      <td>X</td>\n",
       "      <td>X</td>\n",
       "      <td>X</td>\n",
       "      <td>C</td>\n",
       "      <td>T</td>\n",
       "      <td>2</td>\n",
       "    </tr>\n",
       "    <tr>\n",
       "      <th>1</th>\n",
       "      <td>CA</td>\n",
       "      <td>A</td>\n",
       "      <td>0</td>\n",
       "      <td>XXXX</td>\n",
       "      <td>14</td>\n",
       "      <td>H</td>\n",
       "      <td>M</td>\n",
       "      <td>3</td>\n",
       "      <td>L2G</td>\n",
       "      <td>A2G</td>\n",
       "      <td>...</td>\n",
       "      <td>L1E</td>\n",
       "      <td>NaN</td>\n",
       "      <td>L</td>\n",
       "      <td>G</td>\n",
       "      <td>X</td>\n",
       "      <td>X</td>\n",
       "      <td>X</td>\n",
       "      <td>A</td>\n",
       "      <td>S</td>\n",
       "      <td>1</td>\n",
       "    </tr>\n",
       "    <tr>\n",
       "      <th>2</th>\n",
       "      <td>NC</td>\n",
       "      <td>A</td>\n",
       "      <td>0</td>\n",
       "      <td>XXXX</td>\n",
       "      <td>43</td>\n",
       "      <td>U</td>\n",
       "      <td>M</td>\n",
       "      <td>3</td>\n",
       "      <td>L4E</td>\n",
       "      <td>S4E</td>\n",
       "      <td>...</td>\n",
       "      <td>S4F</td>\n",
       "      <td>S4D</td>\n",
       "      <td>L</td>\n",
       "      <td>E</td>\n",
       "      <td>X</td>\n",
       "      <td>X</td>\n",
       "      <td>X</td>\n",
       "      <td>C</td>\n",
       "      <td>R</td>\n",
       "      <td>2</td>\n",
       "    </tr>\n",
       "    <tr>\n",
       "      <th>3</th>\n",
       "      <td>CA</td>\n",
       "      <td>A</td>\n",
       "      <td>0</td>\n",
       "      <td>XXXX</td>\n",
       "      <td>44</td>\n",
       "      <td>U</td>\n",
       "      <td>F</td>\n",
       "      <td>3</td>\n",
       "      <td>L4E</td>\n",
       "      <td>S4E</td>\n",
       "      <td>...</td>\n",
       "      <td>S4E</td>\n",
       "      <td>S2D</td>\n",
       "      <td>L</td>\n",
       "      <td>E</td>\n",
       "      <td>X</td>\n",
       "      <td>X</td>\n",
       "      <td>X</td>\n",
       "      <td>C</td>\n",
       "      <td>R</td>\n",
       "      <td>2</td>\n",
       "    </tr>\n",
       "    <tr>\n",
       "      <th>4</th>\n",
       "      <td>FL</td>\n",
       "      <td>A</td>\n",
       "      <td>0</td>\n",
       "      <td>XXXX</td>\n",
       "      <td>16</td>\n",
       "      <td>H</td>\n",
       "      <td>F</td>\n",
       "      <td>3</td>\n",
       "      <td>L2F</td>\n",
       "      <td>A2F</td>\n",
       "      <td>...</td>\n",
       "      <td>L3D</td>\n",
       "      <td>A2D</td>\n",
       "      <td>L</td>\n",
       "      <td>F</td>\n",
       "      <td>X</td>\n",
       "      <td>X</td>\n",
       "      <td>X</td>\n",
       "      <td>A</td>\n",
       "      <td>S</td>\n",
       "      <td>2</td>\n",
       "    </tr>\n",
       "  </tbody>\n",
       "</table>\n",
       "<p>5 rows × 28 columns</p>\n",
       "</div>"
      ],
      "text/plain": [
       "  STATE MAILCODE NOEXCH MDMAUD CLUSTER HOMEOWNR GENDER DATASRCE RFA_2 RFA_3  \\\n",
       "0    IL        A      0   XXXX      36        U      F        3   L4E   S4E   \n",
       "1    CA        A      0   XXXX      14        H      M        3   L2G   A2G   \n",
       "2    NC        A      0   XXXX      43        U      M        3   L4E   S4E   \n",
       "3    CA        A      0   XXXX      44        U      F        3   L4E   S4E   \n",
       "4    FL        A      0   XXXX      16        H      F        3   L2F   A2F   \n",
       "\n",
       "   ... RFA_16 RFA_18 RFA_2R RFA_2A MDMAUD_R MDMAUD_F MDMAUD_A GEOCODE2  \\\n",
       "0  ...    S4E    S4E      L      E        X        X        X        C   \n",
       "1  ...    L1E    NaN      L      G        X        X        X        A   \n",
       "2  ...    S4F    S4D      L      E        X        X        X        C   \n",
       "3  ...    S4E    S2D      L      E        X        X        X        C   \n",
       "4  ...    L3D    A2D      L      F        X        X        X        A   \n",
       "\n",
       "  DOMAIN_A DOMAIN_B  \n",
       "0        T        2  \n",
       "1        S        1  \n",
       "2        R        2  \n",
       "3        R        2  \n",
       "4        S        2  \n",
       "\n",
       "[5 rows x 28 columns]"
      ]
     },
     "execution_count": 52,
     "metadata": {},
     "output_type": "execute_result"
    }
   ],
   "source": [
    "categorical.head()"
   ]
  },
  {
   "cell_type": "code",
   "execution_count": 53,
   "metadata": {},
   "outputs": [
    {
     "data": {
      "text/plain": [
       "L1F    30380\n",
       "L1G    12384\n",
       "L2F    10961\n",
       "L3E     7767\n",
       "L2E     4989\n",
       "L4D     4914\n",
       "L1E     4911\n",
       "L2G     4595\n",
       "L4E     3972\n",
       "L3F     3523\n",
       "L3D     2498\n",
       "L4F     2100\n",
       "L3G     1503\n",
       "L4G      915\n",
       "Name: RFA_2, dtype: int64"
      ]
     },
     "execution_count": 53,
     "metadata": {},
     "output_type": "execute_result"
    }
   ],
   "source": [
    "categorical['RFA_2'].value_counts()"
   ]
  },
  {
   "cell_type": "code",
   "execution_count": 54,
   "metadata": {},
   "outputs": [],
   "source": [
    "\n",
    "for col_name in categorical.columns:\n",
    "    if \"RFA\" in col_name:\n",
    "        drop_list.append(col_name)  "
   ]
  },
  {
   "cell_type": "code",
   "execution_count": 55,
   "metadata": {},
   "outputs": [
    {
     "data": {
      "text/plain": [
       "['MAILCODE',\n",
       " 'NOEXCH',\n",
       " 'MDMAUD',\n",
       " 'MDMAUD_R',\n",
       " 'MDMAUD_F',\n",
       " 'MDMAUD_A',\n",
       " 'RFA_2',\n",
       " 'RFA_3',\n",
       " 'RFA_4',\n",
       " 'RFA_6',\n",
       " 'RFA_7',\n",
       " 'RFA_8',\n",
       " 'RFA_9',\n",
       " 'RFA_11',\n",
       " 'RFA_12',\n",
       " 'RFA_14',\n",
       " 'RFA_16',\n",
       " 'RFA_18']"
      ]
     },
     "execution_count": 55,
     "metadata": {},
     "output_type": "execute_result"
    }
   ],
   "source": [
    "drop_list.remove('RFA_2R')\n",
    "drop_list.remove('RFA_2A')\n",
    "drop_list"
   ]
  },
  {
   "cell_type": "code",
   "execution_count": 56,
   "metadata": {},
   "outputs": [
    {
     "data": {
      "text/html": [
       "<div>\n",
       "<style scoped>\n",
       "    .dataframe tbody tr th:only-of-type {\n",
       "        vertical-align: middle;\n",
       "    }\n",
       "\n",
       "    .dataframe tbody tr th {\n",
       "        vertical-align: top;\n",
       "    }\n",
       "\n",
       "    .dataframe thead th {\n",
       "        text-align: right;\n",
       "    }\n",
       "</style>\n",
       "<table border=\"1\" class=\"dataframe\">\n",
       "  <thead>\n",
       "    <tr style=\"text-align: right;\">\n",
       "      <th></th>\n",
       "      <th>STATE</th>\n",
       "      <th>CLUSTER</th>\n",
       "      <th>HOMEOWNR</th>\n",
       "      <th>GENDER</th>\n",
       "      <th>DATASRCE</th>\n",
       "      <th>RFA_2R</th>\n",
       "      <th>RFA_2A</th>\n",
       "      <th>GEOCODE2</th>\n",
       "      <th>DOMAIN_A</th>\n",
       "      <th>DOMAIN_B</th>\n",
       "    </tr>\n",
       "  </thead>\n",
       "  <tbody>\n",
       "    <tr>\n",
       "      <th>0</th>\n",
       "      <td>IL</td>\n",
       "      <td>36</td>\n",
       "      <td>U</td>\n",
       "      <td>F</td>\n",
       "      <td>3</td>\n",
       "      <td>L</td>\n",
       "      <td>E</td>\n",
       "      <td>C</td>\n",
       "      <td>T</td>\n",
       "      <td>2</td>\n",
       "    </tr>\n",
       "    <tr>\n",
       "      <th>1</th>\n",
       "      <td>CA</td>\n",
       "      <td>14</td>\n",
       "      <td>H</td>\n",
       "      <td>M</td>\n",
       "      <td>3</td>\n",
       "      <td>L</td>\n",
       "      <td>G</td>\n",
       "      <td>A</td>\n",
       "      <td>S</td>\n",
       "      <td>1</td>\n",
       "    </tr>\n",
       "    <tr>\n",
       "      <th>2</th>\n",
       "      <td>NC</td>\n",
       "      <td>43</td>\n",
       "      <td>U</td>\n",
       "      <td>M</td>\n",
       "      <td>3</td>\n",
       "      <td>L</td>\n",
       "      <td>E</td>\n",
       "      <td>C</td>\n",
       "      <td>R</td>\n",
       "      <td>2</td>\n",
       "    </tr>\n",
       "    <tr>\n",
       "      <th>3</th>\n",
       "      <td>CA</td>\n",
       "      <td>44</td>\n",
       "      <td>U</td>\n",
       "      <td>F</td>\n",
       "      <td>3</td>\n",
       "      <td>L</td>\n",
       "      <td>E</td>\n",
       "      <td>C</td>\n",
       "      <td>R</td>\n",
       "      <td>2</td>\n",
       "    </tr>\n",
       "    <tr>\n",
       "      <th>4</th>\n",
       "      <td>FL</td>\n",
       "      <td>16</td>\n",
       "      <td>H</td>\n",
       "      <td>F</td>\n",
       "      <td>3</td>\n",
       "      <td>L</td>\n",
       "      <td>F</td>\n",
       "      <td>A</td>\n",
       "      <td>S</td>\n",
       "      <td>2</td>\n",
       "    </tr>\n",
       "  </tbody>\n",
       "</table>\n",
       "</div>"
      ],
      "text/plain": [
       "  STATE CLUSTER HOMEOWNR GENDER DATASRCE RFA_2R RFA_2A GEOCODE2 DOMAIN_A  \\\n",
       "0    IL      36        U      F        3      L      E        C        T   \n",
       "1    CA      14        H      M        3      L      G        A        S   \n",
       "2    NC      43        U      M        3      L      E        C        R   \n",
       "3    CA      44        U      F        3      L      E        C        R   \n",
       "4    FL      16        H      F        3      L      F        A        S   \n",
       "\n",
       "  DOMAIN_B  \n",
       "0        2  \n",
       "1        1  \n",
       "2        2  \n",
       "3        2  \n",
       "4        2  "
      ]
     },
     "execution_count": 56,
     "metadata": {},
     "output_type": "execute_result"
    }
   ],
   "source": [
    "categorical = categorical.drop(columns=drop_list)\n",
    "categorical.head()"
   ]
  },
  {
   "cell_type": "code",
   "execution_count": 57,
   "metadata": {},
   "outputs": [
    {
     "data": {
      "text/plain": [
       "STATE       0\n",
       "CLUSTER     0\n",
       "HOMEOWNR    0\n",
       "GENDER      0\n",
       "DATASRCE    0\n",
       "RFA_2R      0\n",
       "RFA_2A      0\n",
       "GEOCODE2    0\n",
       "DOMAIN_A    0\n",
       "DOMAIN_B    0\n",
       "dtype: int64"
      ]
     },
     "execution_count": 57,
     "metadata": {},
     "output_type": "execute_result"
    }
   ],
   "source": [
    "categorical.isna().sum()"
   ]
  },
  {
   "cell_type": "markdown",
   "metadata": {},
   "source": [
    "# working with numerical"
   ]
  },
  {
   "cell_type": "code",
   "execution_count": 58,
   "metadata": {},
   "outputs": [
    {
     "data": {
      "text/html": [
       "<div>\n",
       "<style scoped>\n",
       "    .dataframe tbody tr th:only-of-type {\n",
       "        vertical-align: middle;\n",
       "    }\n",
       "\n",
       "    .dataframe tbody tr th {\n",
       "        vertical-align: top;\n",
       "    }\n",
       "\n",
       "    .dataframe thead th {\n",
       "        text-align: right;\n",
       "    }\n",
       "</style>\n",
       "<table border=\"1\" class=\"dataframe\">\n",
       "  <thead>\n",
       "    <tr style=\"text-align: right;\">\n",
       "      <th></th>\n",
       "      <th>ODATEDW</th>\n",
       "      <th>TCODE</th>\n",
       "      <th>DOB</th>\n",
       "      <th>AGE</th>\n",
       "      <th>INCOME</th>\n",
       "      <th>WEALTH1</th>\n",
       "      <th>HIT</th>\n",
       "      <th>MALEMILI</th>\n",
       "      <th>MALEVET</th>\n",
       "      <th>VIETVETS</th>\n",
       "      <th>...</th>\n",
       "      <th>LASTGIFT</th>\n",
       "      <th>LASTDATE</th>\n",
       "      <th>FISTDATE</th>\n",
       "      <th>NEXTDATE</th>\n",
       "      <th>TIMELAG</th>\n",
       "      <th>AVGGIFT</th>\n",
       "      <th>CONTROLN</th>\n",
       "      <th>HPHONE_D</th>\n",
       "      <th>RFA_2F</th>\n",
       "      <th>CLUSTER2</th>\n",
       "    </tr>\n",
       "  </thead>\n",
       "  <tbody>\n",
       "    <tr>\n",
       "      <th>0</th>\n",
       "      <td>8901</td>\n",
       "      <td>0</td>\n",
       "      <td>3712</td>\n",
       "      <td>60.0</td>\n",
       "      <td>NaN</td>\n",
       "      <td>NaN</td>\n",
       "      <td>0</td>\n",
       "      <td>0</td>\n",
       "      <td>39</td>\n",
       "      <td>34</td>\n",
       "      <td>...</td>\n",
       "      <td>10.0</td>\n",
       "      <td>9512</td>\n",
       "      <td>8911</td>\n",
       "      <td>9003.0</td>\n",
       "      <td>4.0</td>\n",
       "      <td>7.741935</td>\n",
       "      <td>95515</td>\n",
       "      <td>0</td>\n",
       "      <td>4</td>\n",
       "      <td>39.0</td>\n",
       "    </tr>\n",
       "    <tr>\n",
       "      <th>1</th>\n",
       "      <td>9401</td>\n",
       "      <td>1</td>\n",
       "      <td>5202</td>\n",
       "      <td>46.0</td>\n",
       "      <td>6.0</td>\n",
       "      <td>9.0</td>\n",
       "      <td>16</td>\n",
       "      <td>0</td>\n",
       "      <td>15</td>\n",
       "      <td>55</td>\n",
       "      <td>...</td>\n",
       "      <td>25.0</td>\n",
       "      <td>9512</td>\n",
       "      <td>9310</td>\n",
       "      <td>9504.0</td>\n",
       "      <td>18.0</td>\n",
       "      <td>15.666667</td>\n",
       "      <td>148535</td>\n",
       "      <td>0</td>\n",
       "      <td>2</td>\n",
       "      <td>1.0</td>\n",
       "    </tr>\n",
       "    <tr>\n",
       "      <th>2</th>\n",
       "      <td>9001</td>\n",
       "      <td>1</td>\n",
       "      <td>0</td>\n",
       "      <td>NaN</td>\n",
       "      <td>3.0</td>\n",
       "      <td>1.0</td>\n",
       "      <td>2</td>\n",
       "      <td>0</td>\n",
       "      <td>20</td>\n",
       "      <td>29</td>\n",
       "      <td>...</td>\n",
       "      <td>5.0</td>\n",
       "      <td>9512</td>\n",
       "      <td>9001</td>\n",
       "      <td>9101.0</td>\n",
       "      <td>12.0</td>\n",
       "      <td>7.481481</td>\n",
       "      <td>15078</td>\n",
       "      <td>1</td>\n",
       "      <td>4</td>\n",
       "      <td>60.0</td>\n",
       "    </tr>\n",
       "    <tr>\n",
       "      <th>3</th>\n",
       "      <td>8701</td>\n",
       "      <td>0</td>\n",
       "      <td>2801</td>\n",
       "      <td>70.0</td>\n",
       "      <td>1.0</td>\n",
       "      <td>4.0</td>\n",
       "      <td>2</td>\n",
       "      <td>0</td>\n",
       "      <td>23</td>\n",
       "      <td>14</td>\n",
       "      <td>...</td>\n",
       "      <td>10.0</td>\n",
       "      <td>9512</td>\n",
       "      <td>8702</td>\n",
       "      <td>8711.0</td>\n",
       "      <td>9.0</td>\n",
       "      <td>6.812500</td>\n",
       "      <td>172556</td>\n",
       "      <td>1</td>\n",
       "      <td>4</td>\n",
       "      <td>41.0</td>\n",
       "    </tr>\n",
       "    <tr>\n",
       "      <th>4</th>\n",
       "      <td>8601</td>\n",
       "      <td>0</td>\n",
       "      <td>2001</td>\n",
       "      <td>78.0</td>\n",
       "      <td>3.0</td>\n",
       "      <td>2.0</td>\n",
       "      <td>60</td>\n",
       "      <td>1</td>\n",
       "      <td>28</td>\n",
       "      <td>9</td>\n",
       "      <td>...</td>\n",
       "      <td>15.0</td>\n",
       "      <td>9601</td>\n",
       "      <td>7903</td>\n",
       "      <td>8005.0</td>\n",
       "      <td>14.0</td>\n",
       "      <td>6.864865</td>\n",
       "      <td>7112</td>\n",
       "      <td>1</td>\n",
       "      <td>2</td>\n",
       "      <td>26.0</td>\n",
       "    </tr>\n",
       "  </tbody>\n",
       "</table>\n",
       "<p>5 rows × 335 columns</p>\n",
       "</div>"
      ],
      "text/plain": [
       "   ODATEDW  TCODE   DOB   AGE  INCOME  WEALTH1  HIT  MALEMILI  MALEVET  \\\n",
       "0     8901      0  3712  60.0     NaN      NaN    0         0       39   \n",
       "1     9401      1  5202  46.0     6.0      9.0   16         0       15   \n",
       "2     9001      1     0   NaN     3.0      1.0    2         0       20   \n",
       "3     8701      0  2801  70.0     1.0      4.0    2         0       23   \n",
       "4     8601      0  2001  78.0     3.0      2.0   60         1       28   \n",
       "\n",
       "   VIETVETS  ...  LASTGIFT  LASTDATE  FISTDATE  NEXTDATE  TIMELAG    AVGGIFT  \\\n",
       "0        34  ...      10.0      9512      8911    9003.0      4.0   7.741935   \n",
       "1        55  ...      25.0      9512      9310    9504.0     18.0  15.666667   \n",
       "2        29  ...       5.0      9512      9001    9101.0     12.0   7.481481   \n",
       "3        14  ...      10.0      9512      8702    8711.0      9.0   6.812500   \n",
       "4         9  ...      15.0      9601      7903    8005.0     14.0   6.864865   \n",
       "\n",
       "   CONTROLN  HPHONE_D  RFA_2F  CLUSTER2  \n",
       "0     95515         0       4      39.0  \n",
       "1    148535         0       2       1.0  \n",
       "2     15078         1       4      60.0  \n",
       "3    172556         1       4      41.0  \n",
       "4      7112         1       2      26.0  \n",
       "\n",
       "[5 rows x 335 columns]"
      ]
     },
     "execution_count": 58,
     "metadata": {},
     "output_type": "execute_result"
    }
   ],
   "source": [
    "numerical.head()"
   ]
  },
  {
   "cell_type": "code",
   "execution_count": 59,
   "metadata": {},
   "outputs": [
    {
     "data": {
      "text/html": [
       "<div>\n",
       "<style scoped>\n",
       "    .dataframe tbody tr th:only-of-type {\n",
       "        vertical-align: middle;\n",
       "    }\n",
       "\n",
       "    .dataframe tbody tr th {\n",
       "        vertical-align: top;\n",
       "    }\n",
       "\n",
       "    .dataframe thead th {\n",
       "        text-align: right;\n",
       "    }\n",
       "</style>\n",
       "<table border=\"1\" class=\"dataframe\">\n",
       "  <thead>\n",
       "    <tr style=\"text-align: right;\">\n",
       "      <th></th>\n",
       "      <th>column_name</th>\n",
       "      <th>nulls</th>\n",
       "    </tr>\n",
       "  </thead>\n",
       "  <tbody>\n",
       "    <tr>\n",
       "      <th>3</th>\n",
       "      <td>AGE</td>\n",
       "      <td>23665</td>\n",
       "    </tr>\n",
       "    <tr>\n",
       "      <th>4</th>\n",
       "      <td>INCOME</td>\n",
       "      <td>21286</td>\n",
       "    </tr>\n",
       "    <tr>\n",
       "      <th>5</th>\n",
       "      <td>WEALTH1</td>\n",
       "      <td>44732</td>\n",
       "    </tr>\n",
       "    <tr>\n",
       "      <th>14</th>\n",
       "      <td>WEALTH2</td>\n",
       "      <td>43823</td>\n",
       "    </tr>\n",
       "    <tr>\n",
       "      <th>135</th>\n",
       "      <td>MSA</td>\n",
       "      <td>132</td>\n",
       "    </tr>\n",
       "    <tr>\n",
       "      <th>136</th>\n",
       "      <td>ADI</td>\n",
       "      <td>132</td>\n",
       "    </tr>\n",
       "    <tr>\n",
       "      <th>137</th>\n",
       "      <td>DMA</td>\n",
       "      <td>132</td>\n",
       "    </tr>\n",
       "    <tr>\n",
       "      <th>302</th>\n",
       "      <td>ADATE_3</td>\n",
       "      <td>1950</td>\n",
       "    </tr>\n",
       "    <tr>\n",
       "      <th>303</th>\n",
       "      <td>ADATE_4</td>\n",
       "      <td>2191</td>\n",
       "    </tr>\n",
       "    <tr>\n",
       "      <th>304</th>\n",
       "      <td>ADATE_6</td>\n",
       "      <td>3557</td>\n",
       "    </tr>\n",
       "    <tr>\n",
       "      <th>305</th>\n",
       "      <td>ADATE_7</td>\n",
       "      <td>8874</td>\n",
       "    </tr>\n",
       "    <tr>\n",
       "      <th>306</th>\n",
       "      <td>ADATE_8</td>\n",
       "      <td>3511</td>\n",
       "    </tr>\n",
       "    <tr>\n",
       "      <th>307</th>\n",
       "      <td>ADATE_9</td>\n",
       "      <td>11245</td>\n",
       "    </tr>\n",
       "    <tr>\n",
       "      <th>308</th>\n",
       "      <td>ADATE_11</td>\n",
       "      <td>10422</td>\n",
       "    </tr>\n",
       "    <tr>\n",
       "      <th>309</th>\n",
       "      <td>ADATE_12</td>\n",
       "      <td>8923</td>\n",
       "    </tr>\n",
       "    <tr>\n",
       "      <th>310</th>\n",
       "      <td>ADATE_14</td>\n",
       "      <td>18867</td>\n",
       "    </tr>\n",
       "    <tr>\n",
       "      <th>311</th>\n",
       "      <td>ADATE_16</td>\n",
       "      <td>20364</td>\n",
       "    </tr>\n",
       "    <tr>\n",
       "      <th>312</th>\n",
       "      <td>ADATE_18</td>\n",
       "      <td>21263</td>\n",
       "    </tr>\n",
       "    <tr>\n",
       "      <th>328</th>\n",
       "      <td>NEXTDATE</td>\n",
       "      <td>9973</td>\n",
       "    </tr>\n",
       "    <tr>\n",
       "      <th>329</th>\n",
       "      <td>TIMELAG</td>\n",
       "      <td>9973</td>\n",
       "    </tr>\n",
       "    <tr>\n",
       "      <th>334</th>\n",
       "      <td>CLUSTER2</td>\n",
       "      <td>132</td>\n",
       "    </tr>\n",
       "  </tbody>\n",
       "</table>\n",
       "</div>"
      ],
      "text/plain": [
       "    column_name  nulls\n",
       "3           AGE  23665\n",
       "4        INCOME  21286\n",
       "5       WEALTH1  44732\n",
       "14      WEALTH2  43823\n",
       "135         MSA    132\n",
       "136         ADI    132\n",
       "137         DMA    132\n",
       "302     ADATE_3   1950\n",
       "303     ADATE_4   2191\n",
       "304     ADATE_6   3557\n",
       "305     ADATE_7   8874\n",
       "306     ADATE_8   3511\n",
       "307     ADATE_9  11245\n",
       "308    ADATE_11  10422\n",
       "309    ADATE_12   8923\n",
       "310    ADATE_14  18867\n",
       "311    ADATE_16  20364\n",
       "312    ADATE_18  21263\n",
       "328    NEXTDATE   9973\n",
       "329     TIMELAG   9973\n",
       "334    CLUSTER2    132"
      ]
     },
     "execution_count": 59,
     "metadata": {},
     "output_type": "execute_result"
    }
   ],
   "source": [
    "df = pd.DataFrame(numerical.isna().sum()).reset_index()\n",
    "df.columns = ['column_name', 'nulls']\n",
    "df[df['nulls']>0]"
   ]
  },
  {
   "cell_type": "code",
   "execution_count": 60,
   "metadata": {},
   "outputs": [
    {
     "data": {
      "text/html": [
       "<div>\n",
       "<style scoped>\n",
       "    .dataframe tbody tr th:only-of-type {\n",
       "        vertical-align: middle;\n",
       "    }\n",
       "\n",
       "    .dataframe tbody tr th {\n",
       "        vertical-align: top;\n",
       "    }\n",
       "\n",
       "    .dataframe thead th {\n",
       "        text-align: right;\n",
       "    }\n",
       "</style>\n",
       "<table border=\"1\" class=\"dataframe\">\n",
       "  <thead>\n",
       "    <tr style=\"text-align: right;\">\n",
       "      <th></th>\n",
       "      <th>column_name</th>\n",
       "      <th>nulls_percentage</th>\n",
       "    </tr>\n",
       "  </thead>\n",
       "  <tbody>\n",
       "    <tr>\n",
       "      <th>0</th>\n",
       "      <td>ODATEDW</td>\n",
       "      <td>0.000000</td>\n",
       "    </tr>\n",
       "    <tr>\n",
       "      <th>1</th>\n",
       "      <td>TCODE</td>\n",
       "      <td>0.000000</td>\n",
       "    </tr>\n",
       "    <tr>\n",
       "      <th>2</th>\n",
       "      <td>DOB</td>\n",
       "      <td>0.000000</td>\n",
       "    </tr>\n",
       "    <tr>\n",
       "      <th>3</th>\n",
       "      <td>AGE</td>\n",
       "      <td>0.248030</td>\n",
       "    </tr>\n",
       "    <tr>\n",
       "      <th>4</th>\n",
       "      <td>INCOME</td>\n",
       "      <td>0.223096</td>\n",
       "    </tr>\n",
       "    <tr>\n",
       "      <th>...</th>\n",
       "      <td>...</td>\n",
       "      <td>...</td>\n",
       "    </tr>\n",
       "    <tr>\n",
       "      <th>330</th>\n",
       "      <td>AVGGIFT</td>\n",
       "      <td>0.000000</td>\n",
       "    </tr>\n",
       "    <tr>\n",
       "      <th>331</th>\n",
       "      <td>CONTROLN</td>\n",
       "      <td>0.000000</td>\n",
       "    </tr>\n",
       "    <tr>\n",
       "      <th>332</th>\n",
       "      <td>HPHONE_D</td>\n",
       "      <td>0.000000</td>\n",
       "    </tr>\n",
       "    <tr>\n",
       "      <th>333</th>\n",
       "      <td>RFA_2F</td>\n",
       "      <td>0.000000</td>\n",
       "    </tr>\n",
       "    <tr>\n",
       "      <th>334</th>\n",
       "      <td>CLUSTER2</td>\n",
       "      <td>0.001383</td>\n",
       "    </tr>\n",
       "  </tbody>\n",
       "</table>\n",
       "<p>335 rows × 2 columns</p>\n",
       "</div>"
      ],
      "text/plain": [
       "    column_name  nulls_percentage\n",
       "0       ODATEDW          0.000000\n",
       "1         TCODE          0.000000\n",
       "2           DOB          0.000000\n",
       "3           AGE          0.248030\n",
       "4        INCOME          0.223096\n",
       "..          ...               ...\n",
       "330     AVGGIFT          0.000000\n",
       "331    CONTROLN          0.000000\n",
       "332    HPHONE_D          0.000000\n",
       "333      RFA_2F          0.000000\n",
       "334    CLUSTER2          0.001383\n",
       "\n",
       "[335 rows x 2 columns]"
      ]
     },
     "execution_count": 60,
     "metadata": {},
     "output_type": "execute_result"
    }
   ],
   "source": [
    "nulls_percent_num = pd.DataFrame(numerical.isna().sum()/len(numerical)).reset_index()\n",
    "nulls_percent_num.columns = ['column_name', 'nulls_percentage']\n",
    "nulls_percent_num"
   ]
  },
  {
   "cell_type": "code",
   "execution_count": 61,
   "metadata": {},
   "outputs": [
    {
     "data": {
      "text/html": [
       "<div>\n",
       "<style scoped>\n",
       "    .dataframe tbody tr th:only-of-type {\n",
       "        vertical-align: middle;\n",
       "    }\n",
       "\n",
       "    .dataframe tbody tr th {\n",
       "        vertical-align: top;\n",
       "    }\n",
       "\n",
       "    .dataframe thead th {\n",
       "        text-align: right;\n",
       "    }\n",
       "</style>\n",
       "<table border=\"1\" class=\"dataframe\">\n",
       "  <thead>\n",
       "    <tr style=\"text-align: right;\">\n",
       "      <th></th>\n",
       "      <th>column_name</th>\n",
       "      <th>nulls_percentage</th>\n",
       "    </tr>\n",
       "  </thead>\n",
       "  <tbody>\n",
       "    <tr>\n",
       "      <th>3</th>\n",
       "      <td>AGE</td>\n",
       "      <td>0.248030</td>\n",
       "    </tr>\n",
       "    <tr>\n",
       "      <th>4</th>\n",
       "      <td>INCOME</td>\n",
       "      <td>0.223096</td>\n",
       "    </tr>\n",
       "    <tr>\n",
       "      <th>5</th>\n",
       "      <td>WEALTH1</td>\n",
       "      <td>0.468830</td>\n",
       "    </tr>\n",
       "    <tr>\n",
       "      <th>14</th>\n",
       "      <td>WEALTH2</td>\n",
       "      <td>0.459303</td>\n",
       "    </tr>\n",
       "    <tr>\n",
       "      <th>135</th>\n",
       "      <td>MSA</td>\n",
       "      <td>0.001383</td>\n",
       "    </tr>\n",
       "    <tr>\n",
       "      <th>136</th>\n",
       "      <td>ADI</td>\n",
       "      <td>0.001383</td>\n",
       "    </tr>\n",
       "    <tr>\n",
       "      <th>137</th>\n",
       "      <td>DMA</td>\n",
       "      <td>0.001383</td>\n",
       "    </tr>\n",
       "    <tr>\n",
       "      <th>302</th>\n",
       "      <td>ADATE_3</td>\n",
       "      <td>0.020438</td>\n",
       "    </tr>\n",
       "    <tr>\n",
       "      <th>303</th>\n",
       "      <td>ADATE_4</td>\n",
       "      <td>0.022964</td>\n",
       "    </tr>\n",
       "    <tr>\n",
       "      <th>304</th>\n",
       "      <td>ADATE_6</td>\n",
       "      <td>0.037280</td>\n",
       "    </tr>\n",
       "    <tr>\n",
       "      <th>305</th>\n",
       "      <td>ADATE_7</td>\n",
       "      <td>0.093007</td>\n",
       "    </tr>\n",
       "    <tr>\n",
       "      <th>306</th>\n",
       "      <td>ADATE_8</td>\n",
       "      <td>0.036798</td>\n",
       "    </tr>\n",
       "    <tr>\n",
       "      <th>307</th>\n",
       "      <td>ADATE_9</td>\n",
       "      <td>0.117857</td>\n",
       "    </tr>\n",
       "    <tr>\n",
       "      <th>308</th>\n",
       "      <td>ADATE_11</td>\n",
       "      <td>0.109232</td>\n",
       "    </tr>\n",
       "    <tr>\n",
       "      <th>309</th>\n",
       "      <td>ADATE_12</td>\n",
       "      <td>0.093521</td>\n",
       "    </tr>\n",
       "    <tr>\n",
       "      <th>310</th>\n",
       "      <td>ADATE_14</td>\n",
       "      <td>0.197742</td>\n",
       "    </tr>\n",
       "    <tr>\n",
       "      <th>311</th>\n",
       "      <td>ADATE_16</td>\n",
       "      <td>0.213432</td>\n",
       "    </tr>\n",
       "    <tr>\n",
       "      <th>312</th>\n",
       "      <td>ADATE_18</td>\n",
       "      <td>0.222855</td>\n",
       "    </tr>\n",
       "    <tr>\n",
       "      <th>328</th>\n",
       "      <td>NEXTDATE</td>\n",
       "      <td>0.104526</td>\n",
       "    </tr>\n",
       "    <tr>\n",
       "      <th>329</th>\n",
       "      <td>TIMELAG</td>\n",
       "      <td>0.104526</td>\n",
       "    </tr>\n",
       "    <tr>\n",
       "      <th>334</th>\n",
       "      <td>CLUSTER2</td>\n",
       "      <td>0.001383</td>\n",
       "    </tr>\n",
       "  </tbody>\n",
       "</table>\n",
       "</div>"
      ],
      "text/plain": [
       "    column_name  nulls_percentage\n",
       "3           AGE          0.248030\n",
       "4        INCOME          0.223096\n",
       "5       WEALTH1          0.468830\n",
       "14      WEALTH2          0.459303\n",
       "135         MSA          0.001383\n",
       "136         ADI          0.001383\n",
       "137         DMA          0.001383\n",
       "302     ADATE_3          0.020438\n",
       "303     ADATE_4          0.022964\n",
       "304     ADATE_6          0.037280\n",
       "305     ADATE_7          0.093007\n",
       "306     ADATE_8          0.036798\n",
       "307     ADATE_9          0.117857\n",
       "308    ADATE_11          0.109232\n",
       "309    ADATE_12          0.093521\n",
       "310    ADATE_14          0.197742\n",
       "311    ADATE_16          0.213432\n",
       "312    ADATE_18          0.222855\n",
       "328    NEXTDATE          0.104526\n",
       "329     TIMELAG          0.104526\n",
       "334    CLUSTER2          0.001383"
      ]
     },
     "execution_count": 61,
     "metadata": {},
     "output_type": "execute_result"
    }
   ],
   "source": [
    "nulls_percent_num[nulls_percent_num['nulls_percentage']!=0]"
   ]
  },
  {
   "cell_type": "code",
   "execution_count": 62,
   "metadata": {},
   "outputs": [],
   "source": [
    "drop_list = []\n",
    "for col_name in numerical.columns:\n",
    "    if \"ADATE\" in col_name:\n",
    "        drop_list.append(col_name)  "
   ]
  },
  {
   "cell_type": "code",
   "execution_count": 63,
   "metadata": {},
   "outputs": [
    {
     "data": {
      "text/plain": [
       "9706    95399\n",
       "9704       13\n",
       "Name: ADATE_2, dtype: int64"
      ]
     },
     "execution_count": 63,
     "metadata": {},
     "output_type": "execute_result"
    }
   ],
   "source": [
    "numerical['ADATE_2'].value_counts()"
   ]
  },
  {
   "cell_type": "code",
   "execution_count": 64,
   "metadata": {},
   "outputs": [
    {
     "name": "stderr",
     "output_type": "stream",
     "text": [
      "/Users/neemahelan/opt/anaconda3/lib/python3.8/site-packages/seaborn/distributions.py:2551: FutureWarning: `distplot` is a deprecated function and will be removed in a future version. Please adapt your code to use either `displot` (a figure-level function with similar flexibility) or `histplot` (an axes-level function for histograms).\n",
      "  warnings.warn(msg, FutureWarning)\n"
     ]
    },
    {
     "data": {
      "image/png": "[encoded data removed]",
      "text/plain": [
       "<Figure size 432x288 with 1 Axes>"
      ]
     },
     "metadata": {
      "needs_background": "light"
     },
     "output_type": "display_data"
    }
   ],
   "source": [
    "numerical['AGE'] = numerical[\"AGE\"].fillna(np.mean(numerical['AGE']))\n",
    "sns.distplot(numerical['AGE'])\n",
    "plt.show()"
   ]
  },
  {
   "cell_type": "code",
   "execution_count": 65,
   "metadata": {},
   "outputs": [
    {
     "name": "stderr",
     "output_type": "stream",
     "text": [
      "/Users/neemahelan/opt/anaconda3/lib/python3.8/site-packages/seaborn/distributions.py:2551: FutureWarning: `distplot` is a deprecated function and will be removed in a future version. Please adapt your code to use either `displot` (a figure-level function with similar flexibility) or `histplot` (an axes-level function for histograms).\n",
      "  warnings.warn(msg, FutureWarning)\n"
     ]
    },
    {
     "data": {
      "image/png": "[encoded data removed]",
      "text/plain": [
       "<Figure size 432x288 with 1 Axes>"
      ]
     },
     "metadata": {
      "needs_background": "light"
     },
     "output_type": "display_data"
    }
   ],
   "source": [
    "sns.distplot(numerical[numerical['INCOME'].isna()==False]['INCOME']) \n",
    "plt.show()"
   ]
  },
  {
   "cell_type": "code",
   "execution_count": 66,
   "metadata": {},
   "outputs": [],
   "source": [
    "numerical['INCOME'] = numerical['INCOME'].astype('object')"
   ]
  },
  {
   "cell_type": "code",
   "execution_count": 67,
   "metadata": {},
   "outputs": [],
   "source": [
    "numerical['INCOME'] = numerical['INCOME'].fillna('5.0')"
   ]
  },
  {
   "cell_type": "code",
   "execution_count": 68,
   "metadata": {},
   "outputs": [
    {
     "name": "stderr",
     "output_type": "stream",
     "text": [
      "/Users/neemahelan/opt/anaconda3/lib/python3.8/site-packages/seaborn/distributions.py:2551: FutureWarning: `distplot` is a deprecated function and will be removed in a future version. Please adapt your code to use either `displot` (a figure-level function with similar flexibility) or `histplot` (an axes-level function for histograms).\n",
      "  warnings.warn(msg, FutureWarning)\n"
     ]
    },
    {
     "data": {
      "image/png": "[encoded data removed]",
      "text/plain": [
       "<Figure size 432x288 with 1 Axes>"
      ]
     },
     "metadata": {
      "needs_background": "light"
     },
     "output_type": "display_data"
    }
   ],
   "source": [
    "sns.distplot(numerical[numerical['CLUSTER2'].isna()==False]['CLUSTER2']) \n",
    "plt.show()"
   ]
  },
  {
   "cell_type": "code",
   "execution_count": 69,
   "metadata": {},
   "outputs": [],
   "source": [
    "numerical['CLUSTER2'] = numerical['CLUSTER2'].fillna(np.round(np.mean(numerical['CLUSTER2']),(0)))"
   ]
  },
  {
   "cell_type": "code",
   "execution_count": 70,
   "metadata": {},
   "outputs": [
    {
     "data": {
      "text/plain": [
       "0        5.0\n",
       "1        9.0\n",
       "2        1.0\n",
       "3        0.0\n",
       "4        NaN\n",
       "        ... \n",
       "95407    NaN\n",
       "95408    NaN\n",
       "95409    NaN\n",
       "95410    7.0\n",
       "95411    8.0\n",
       "Name: WEALTH2, Length: 95412, dtype: float64"
      ]
     },
     "execution_count": 70,
     "metadata": {},
     "output_type": "execute_result"
    }
   ],
   "source": [
    "numerical['WEALTH2']"
   ]
  },
  {
   "cell_type": "code",
   "execution_count": 71,
   "metadata": {},
   "outputs": [],
   "source": [
    "numerical['WEALTH2'] = numerical['WEALTH2'].astype('object')"
   ]
  },
  {
   "cell_type": "code",
   "execution_count": 72,
   "metadata": {},
   "outputs": [],
   "source": [
    "numerical['WEALTH2'] = numerical['WEALTH2'].fillna('9.0')"
   ]
  },
  {
   "cell_type": "code",
   "execution_count": 73,
   "metadata": {},
   "outputs": [
    {
     "name": "stderr",
     "output_type": "stream",
     "text": [
      "/Users/neemahelan/opt/anaconda3/lib/python3.8/site-packages/seaborn/distributions.py:2551: FutureWarning: `distplot` is a deprecated function and will be removed in a future version. Please adapt your code to use either `displot` (a figure-level function with similar flexibility) or `histplot` (an axes-level function for histograms).\n",
      "  warnings.warn(msg, FutureWarning)\n"
     ]
    },
    {
     "data": {
      "image/png": "[encoded data removed]",
      "text/plain": [
       "<Figure size 432x288 with 1 Axes>"
      ]
     },
     "metadata": {
      "needs_background": "light"
     },
     "output_type": "display_data"
    }
   ],
   "source": [
    "sns.distplot(numerical[numerical['WEALTH2'].isna()==False]['WEALTH2']) \n",
    "plt.show()"
   ]
  },
  {
   "cell_type": "code",
   "execution_count": 74,
   "metadata": {},
   "outputs": [
    {
     "data": {
      "text/plain": [
       "0         4.0\n",
       "1        18.0\n",
       "2        12.0\n",
       "3         9.0\n",
       "4        14.0\n",
       "         ... \n",
       "95407     NaN\n",
       "95408     NaN\n",
       "95409     3.0\n",
       "95410     4.0\n",
       "95411     6.0\n",
       "Name: TIMELAG, Length: 95412, dtype: float64"
      ]
     },
     "execution_count": 74,
     "metadata": {},
     "output_type": "execute_result"
    }
   ],
   "source": [
    "numerical['TIMELAG']"
   ]
  },
  {
   "cell_type": "code",
   "execution_count": 75,
   "metadata": {},
   "outputs": [],
   "source": [
    "numerical['TIMELAG'] = numerical['TIMELAG'].fillna(1000)"
   ]
  },
  {
   "cell_type": "code",
   "execution_count": 76,
   "metadata": {},
   "outputs": [
    {
     "name": "stderr",
     "output_type": "stream",
     "text": [
      "/Users/neemahelan/opt/anaconda3/lib/python3.8/site-packages/seaborn/distributions.py:2551: FutureWarning: `distplot` is a deprecated function and will be removed in a future version. Please adapt your code to use either `displot` (a figure-level function with similar flexibility) or `histplot` (an axes-level function for histograms).\n",
      "  warnings.warn(msg, FutureWarning)\n"
     ]
    },
    {
     "data": {
      "image/png": "[encoded data removed]",
      "text/plain": [
       "<Figure size 432x288 with 1 Axes>"
      ]
     },
     "metadata": {
      "needs_background": "light"
     },
     "output_type": "display_data"
    }
   ],
   "source": [
    "sns.distplot(numerical[numerical['TIMELAG'].isna()==False]['TIMELAG']) \n",
    "plt.show()"
   ]
  },
  {
   "cell_type": "code",
   "execution_count": 77,
   "metadata": {},
   "outputs": [
    {
     "data": {
      "text/plain": [
       "0        NaN\n",
       "1        9.0\n",
       "2        1.0\n",
       "3        4.0\n",
       "4        2.0\n",
       "        ... \n",
       "95407    NaN\n",
       "95408    9.0\n",
       "95409    NaN\n",
       "95410    NaN\n",
       "95411    8.0\n",
       "Name: WEALTH1, Length: 95412, dtype: float64"
      ]
     },
     "execution_count": 77,
     "metadata": {},
     "output_type": "execute_result"
    }
   ],
   "source": [
    "numerical['WEALTH1']"
   ]
  },
  {
   "cell_type": "code",
   "execution_count": 78,
   "metadata": {},
   "outputs": [
    {
     "name": "stderr",
     "output_type": "stream",
     "text": [
      "/Users/neemahelan/opt/anaconda3/lib/python3.8/site-packages/seaborn/distributions.py:2551: FutureWarning: `distplot` is a deprecated function and will be removed in a future version. Please adapt your code to use either `displot` (a figure-level function with similar flexibility) or `histplot` (an axes-level function for histograms).\n",
      "  warnings.warn(msg, FutureWarning)\n"
     ]
    },
    {
     "data": {
      "image/png": "[encoded data removed]",
      "text/plain": [
       "<Figure size 432x288 with 1 Axes>"
      ]
     },
     "metadata": {
      "needs_background": "light"
     },
     "output_type": "display_data"
    }
   ],
   "source": [
    "sns.distplot(numerical[numerical['WEALTH1'].isna()==False]['WEALTH1']) \n",
    "plt.show()"
   ]
  },
  {
   "cell_type": "code",
   "execution_count": 79,
   "metadata": {},
   "outputs": [],
   "source": [
    "numerical['WEALTH1'] = numerical['WEALTH1'].fillna('9.0')"
   ]
  },
  {
   "cell_type": "code",
   "execution_count": 80,
   "metadata": {},
   "outputs": [
    {
     "data": {
      "text/plain": [
       "132"
      ]
     },
     "execution_count": 80,
     "metadata": {},
     "output_type": "execute_result"
    }
   ],
   "source": [
    "numerical['ADI'].isna().sum()"
   ]
  },
  {
   "cell_type": "code",
   "execution_count": 81,
   "metadata": {},
   "outputs": [],
   "source": [
    "numerical['ADI'] = numerical['ADI'].fillna(np.mean(numerical['ADI']))"
   ]
  },
  {
   "cell_type": "code",
   "execution_count": 82,
   "metadata": {},
   "outputs": [
    {
     "name": "stderr",
     "output_type": "stream",
     "text": [
      "/Users/neemahelan/opt/anaconda3/lib/python3.8/site-packages/seaborn/distributions.py:2551: FutureWarning: `distplot` is a deprecated function and will be removed in a future version. Please adapt your code to use either `displot` (a figure-level function with similar flexibility) or `histplot` (an axes-level function for histograms).\n",
      "  warnings.warn(msg, FutureWarning)\n"
     ]
    },
    {
     "data": {
      "image/png": "[encoded data removed]",
      "text/plain": [
       "<Figure size 432x288 with 1 Axes>"
      ]
     },
     "metadata": {
      "needs_background": "light"
     },
     "output_type": "display_data"
    }
   ],
   "source": [
    "sns.distplot(numerical[numerical['ADI'].isna()==False]['ADI']) \n",
    "plt.show()"
   ]
  },
  {
   "cell_type": "code",
   "execution_count": 83,
   "metadata": {},
   "outputs": [
    {
     "data": {
      "text/plain": [
       "132"
      ]
     },
     "execution_count": 83,
     "metadata": {},
     "output_type": "execute_result"
    }
   ],
   "source": [
    "numerical['DMA'].isnull().sum()"
   ]
  },
  {
   "cell_type": "code",
   "execution_count": 84,
   "metadata": {},
   "outputs": [],
   "source": [
    "numerical['DMA'] = numerical['DMA'].fillna(np.mean(numerical['DMA']))"
   ]
  },
  {
   "cell_type": "code",
   "execution_count": 85,
   "metadata": {},
   "outputs": [
    {
     "name": "stderr",
     "output_type": "stream",
     "text": [
      "/Users/neemahelan/opt/anaconda3/lib/python3.8/site-packages/seaborn/distributions.py:2551: FutureWarning: `distplot` is a deprecated function and will be removed in a future version. Please adapt your code to use either `displot` (a figure-level function with similar flexibility) or `histplot` (an axes-level function for histograms).\n",
      "  warnings.warn(msg, FutureWarning)\n"
     ]
    },
    {
     "data": {
      "image/png": "[encoded data removed]",
      "text/plain": [
       "<Figure size 432x288 with 1 Axes>"
      ]
     },
     "metadata": {
      "needs_background": "light"
     },
     "output_type": "display_data"
    }
   ],
   "source": [
    "sns.distplot(numerical[numerical['DMA'].isna()==False]['DMA']) \n",
    "plt.show()"
   ]
  },
  {
   "cell_type": "code",
   "execution_count": 86,
   "metadata": {},
   "outputs": [
    {
     "data": {
      "text/plain": [
       "0           0.0\n",
       "1        4480.0\n",
       "2           0.0\n",
       "3        9340.0\n",
       "4        5000.0\n",
       "          ...  \n",
       "95407     380.0\n",
       "95408    3360.0\n",
       "95409    4040.0\n",
       "95410    8735.0\n",
       "95411    9200.0\n",
       "Name: MSA, Length: 95412, dtype: float64"
      ]
     },
     "execution_count": 86,
     "metadata": {},
     "output_type": "execute_result"
    }
   ],
   "source": [
    "numerical['MSA']"
   ]
  },
  {
   "cell_type": "code",
   "execution_count": 87,
   "metadata": {},
   "outputs": [],
   "source": [
    "numerical['MSA'] = numerical['MSA'].fillna(np.mean(numerical['MSA']))"
   ]
  },
  {
   "cell_type": "code",
   "execution_count": 88,
   "metadata": {},
   "outputs": [
    {
     "name": "stderr",
     "output_type": "stream",
     "text": [
      "/Users/neemahelan/opt/anaconda3/lib/python3.8/site-packages/seaborn/distributions.py:2551: FutureWarning: `distplot` is a deprecated function and will be removed in a future version. Please adapt your code to use either `displot` (a figure-level function with similar flexibility) or `histplot` (an axes-level function for histograms).\n",
      "  warnings.warn(msg, FutureWarning)\n"
     ]
    },
    {
     "data": {
      "image/png": "[encoded data removed]",
      "text/plain": [
       "<Figure size 432x288 with 1 Axes>"
      ]
     },
     "metadata": {
      "needs_background": "light"
     },
     "output_type": "display_data"
    }
   ],
   "source": [
    "sns.distplot(numerical[numerical['MSA'].isna()==False]['MSA']) \n",
    "plt.show()"
   ]
  },
  {
   "cell_type": "code",
   "execution_count": 89,
   "metadata": {},
   "outputs": [
    {
     "data": {
      "text/html": [
       "<div>\n",
       "<style scoped>\n",
       "    .dataframe tbody tr th:only-of-type {\n",
       "        vertical-align: middle;\n",
       "    }\n",
       "\n",
       "    .dataframe tbody tr th {\n",
       "        vertical-align: top;\n",
       "    }\n",
       "\n",
       "    .dataframe thead th {\n",
       "        text-align: right;\n",
       "    }\n",
       "</style>\n",
       "<table border=\"1\" class=\"dataframe\">\n",
       "  <thead>\n",
       "    <tr style=\"text-align: right;\">\n",
       "      <th></th>\n",
       "      <th>ODATEDW</th>\n",
       "      <th>TCODE</th>\n",
       "      <th>DOB</th>\n",
       "      <th>AGE</th>\n",
       "      <th>INCOME</th>\n",
       "      <th>WEALTH1</th>\n",
       "      <th>HIT</th>\n",
       "      <th>MALEMILI</th>\n",
       "      <th>MALEVET</th>\n",
       "      <th>VIETVETS</th>\n",
       "      <th>...</th>\n",
       "      <th>LASTGIFT</th>\n",
       "      <th>LASTDATE</th>\n",
       "      <th>FISTDATE</th>\n",
       "      <th>NEXTDATE</th>\n",
       "      <th>TIMELAG</th>\n",
       "      <th>AVGGIFT</th>\n",
       "      <th>CONTROLN</th>\n",
       "      <th>HPHONE_D</th>\n",
       "      <th>RFA_2F</th>\n",
       "      <th>CLUSTER2</th>\n",
       "    </tr>\n",
       "  </thead>\n",
       "  <tbody>\n",
       "    <tr>\n",
       "      <th>0</th>\n",
       "      <td>8901</td>\n",
       "      <td>0</td>\n",
       "      <td>3712</td>\n",
       "      <td>60.000000</td>\n",
       "      <td>5.0</td>\n",
       "      <td>9.0</td>\n",
       "      <td>0</td>\n",
       "      <td>0</td>\n",
       "      <td>39</td>\n",
       "      <td>34</td>\n",
       "      <td>...</td>\n",
       "      <td>10.0</td>\n",
       "      <td>9512</td>\n",
       "      <td>8911</td>\n",
       "      <td>9003.0</td>\n",
       "      <td>4.0</td>\n",
       "      <td>7.741935</td>\n",
       "      <td>95515</td>\n",
       "      <td>0</td>\n",
       "      <td>4</td>\n",
       "      <td>39.0</td>\n",
       "    </tr>\n",
       "    <tr>\n",
       "      <th>1</th>\n",
       "      <td>9401</td>\n",
       "      <td>1</td>\n",
       "      <td>5202</td>\n",
       "      <td>46.000000</td>\n",
       "      <td>6</td>\n",
       "      <td>9</td>\n",
       "      <td>16</td>\n",
       "      <td>0</td>\n",
       "      <td>15</td>\n",
       "      <td>55</td>\n",
       "      <td>...</td>\n",
       "      <td>25.0</td>\n",
       "      <td>9512</td>\n",
       "      <td>9310</td>\n",
       "      <td>9504.0</td>\n",
       "      <td>18.0</td>\n",
       "      <td>15.666667</td>\n",
       "      <td>148535</td>\n",
       "      <td>0</td>\n",
       "      <td>2</td>\n",
       "      <td>1.0</td>\n",
       "    </tr>\n",
       "    <tr>\n",
       "      <th>2</th>\n",
       "      <td>9001</td>\n",
       "      <td>1</td>\n",
       "      <td>0</td>\n",
       "      <td>61.611649</td>\n",
       "      <td>3</td>\n",
       "      <td>1</td>\n",
       "      <td>2</td>\n",
       "      <td>0</td>\n",
       "      <td>20</td>\n",
       "      <td>29</td>\n",
       "      <td>...</td>\n",
       "      <td>5.0</td>\n",
       "      <td>9512</td>\n",
       "      <td>9001</td>\n",
       "      <td>9101.0</td>\n",
       "      <td>12.0</td>\n",
       "      <td>7.481481</td>\n",
       "      <td>15078</td>\n",
       "      <td>1</td>\n",
       "      <td>4</td>\n",
       "      <td>60.0</td>\n",
       "    </tr>\n",
       "    <tr>\n",
       "      <th>3</th>\n",
       "      <td>8701</td>\n",
       "      <td>0</td>\n",
       "      <td>2801</td>\n",
       "      <td>70.000000</td>\n",
       "      <td>1</td>\n",
       "      <td>4</td>\n",
       "      <td>2</td>\n",
       "      <td>0</td>\n",
       "      <td>23</td>\n",
       "      <td>14</td>\n",
       "      <td>...</td>\n",
       "      <td>10.0</td>\n",
       "      <td>9512</td>\n",
       "      <td>8702</td>\n",
       "      <td>8711.0</td>\n",
       "      <td>9.0</td>\n",
       "      <td>6.812500</td>\n",
       "      <td>172556</td>\n",
       "      <td>1</td>\n",
       "      <td>4</td>\n",
       "      <td>41.0</td>\n",
       "    </tr>\n",
       "    <tr>\n",
       "      <th>4</th>\n",
       "      <td>8601</td>\n",
       "      <td>0</td>\n",
       "      <td>2001</td>\n",
       "      <td>78.000000</td>\n",
       "      <td>3</td>\n",
       "      <td>2</td>\n",
       "      <td>60</td>\n",
       "      <td>1</td>\n",
       "      <td>28</td>\n",
       "      <td>9</td>\n",
       "      <td>...</td>\n",
       "      <td>15.0</td>\n",
       "      <td>9601</td>\n",
       "      <td>7903</td>\n",
       "      <td>8005.0</td>\n",
       "      <td>14.0</td>\n",
       "      <td>6.864865</td>\n",
       "      <td>7112</td>\n",
       "      <td>1</td>\n",
       "      <td>2</td>\n",
       "      <td>26.0</td>\n",
       "    </tr>\n",
       "  </tbody>\n",
       "</table>\n",
       "<p>5 rows × 335 columns</p>\n",
       "</div>"
      ],
      "text/plain": [
       "   ODATEDW  TCODE   DOB        AGE INCOME WEALTH1  HIT  MALEMILI  MALEVET  \\\n",
       "0     8901      0  3712  60.000000    5.0     9.0    0         0       39   \n",
       "1     9401      1  5202  46.000000      6       9   16         0       15   \n",
       "2     9001      1     0  61.611649      3       1    2         0       20   \n",
       "3     8701      0  2801  70.000000      1       4    2         0       23   \n",
       "4     8601      0  2001  78.000000      3       2   60         1       28   \n",
       "\n",
       "   VIETVETS  ...  LASTGIFT  LASTDATE  FISTDATE  NEXTDATE TIMELAG    AVGGIFT  \\\n",
       "0        34  ...      10.0      9512      8911    9003.0     4.0   7.741935   \n",
       "1        55  ...      25.0      9512      9310    9504.0    18.0  15.666667   \n",
       "2        29  ...       5.0      9512      9001    9101.0    12.0   7.481481   \n",
       "3        14  ...      10.0      9512      8702    8711.0     9.0   6.812500   \n",
       "4         9  ...      15.0      9601      7903    8005.0    14.0   6.864865   \n",
       "\n",
       "   CONTROLN  HPHONE_D  RFA_2F  CLUSTER2  \n",
       "0     95515         0       4      39.0  \n",
       "1    148535         0       2       1.0  \n",
       "2     15078         1       4      60.0  \n",
       "3    172556         1       4      41.0  \n",
       "4      7112         1       2      26.0  \n",
       "\n",
       "[5 rows x 335 columns]"
      ]
     },
     "execution_count": 89,
     "metadata": {},
     "output_type": "execute_result"
    }
   ],
   "source": [
    "numerical.head()"
   ]
  },
  {
   "cell_type": "code",
   "execution_count": 90,
   "metadata": {},
   "outputs": [
    {
     "data": {
      "text/plain": [
       "ODATEDW     0\n",
       "TCODE       0\n",
       "DOB         0\n",
       "AGE         0\n",
       "INCOME      0\n",
       "           ..\n",
       "AVGGIFT     0\n",
       "CONTROLN    0\n",
       "HPHONE_D    0\n",
       "RFA_2F      0\n",
       "CLUSTER2    0\n",
       "Length: 335, dtype: int64"
      ]
     },
     "execution_count": 90,
     "metadata": {},
     "output_type": "execute_result"
    }
   ],
   "source": [
    "numerical.isna().sum()"
   ]
  },
  {
   "cell_type": "code",
   "execution_count": null,
   "metadata": {},
   "outputs": [],
   "source": []
  }
 ],
 "metadata": {
  "kernelspec": {
   "display_name": "Python 3",
   "language": "python",
   "name": "python3"
  },
  "language_info": {
   "codemirror_mode": {
    "name": "ipython",
    "version": 3
   },
   "file_extension": ".py",
   "mimetype": "text/x-python",
   "name": "python",
   "nbconvert_exporter": "python",
   "pygments_lexer": "ipython3",
   "version": "3.8.5"
  }
 },
 "nbformat": 4,
 "nbformat_minor": 4
}
